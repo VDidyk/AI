{
  "nbformat": 4,
  "nbformat_minor": 0,
  "metadata": {
    "colab": {
      "provenance": [],
      "gpuType": "T4",
      "include_colab_link": true
    },
    "kernelspec": {
      "name": "python3",
      "display_name": "Python 3"
    },
    "language_info": {
      "name": "python"
    },
    "accelerator": "GPU"
  },
  "cells": [
    {
      "cell_type": "markdown",
      "metadata": {
        "id": "view-in-github",
        "colab_type": "text"
      },
      "source": [
        "<a href=\"https://colab.research.google.com/github/VDidyk/AI/blob/master/module4/%D0%9F%D1%80%D0%B0%D0%BA%D1%82%D0%B8%D0%BA%D0%B0_pytorch.ipynb\" target=\"_parent\"><img src=\"https://colab.research.google.com/assets/colab-badge.svg\" alt=\"Open In Colab\"/></a>"
      ]
    },
    {
      "cell_type": "markdown",
      "source": [
        "Імпорт модулів"
      ],
      "metadata": {
        "id": "ZnHVsAJ_5Py3"
      }
    },
    {
      "cell_type": "code",
      "execution_count": 1,
      "metadata": {
        "id": "yJf_g69N5LP6"
      },
      "outputs": [],
      "source": [
        "import torch\n",
        "import numpy as np"
      ]
    },
    {
      "cell_type": "markdown",
      "source": [
        "# Завдання 1\n",
        "\n",
        "Перегляньте інформацію про доступні процесори, та виведіть про них інформацію"
      ],
      "metadata": {
        "id": "pRkcTmfh6jCX"
      }
    },
    {
      "cell_type": "code",
      "source": [
        "print(torch.cuda.is_available())\n",
        "\n",
        "if torch.cuda.is_available():\n",
        "    print(torch.cuda.device_count())\n",
        "    print(torch.cuda.get_device_name(0))\n",
        "\n",
        "tensor = torch.tensor([1, 2, 3])\n",
        "print(tensor.device)"
      ],
      "metadata": {
        "id": "W5yEGTcV6zHy",
        "outputId": "72d0c03b-9b98-4d1b-aa00-e0eaa0e982fc",
        "colab": {
          "base_uri": "https://localhost:8080/"
        }
      },
      "execution_count": 3,
      "outputs": [
        {
          "output_type": "stream",
          "name": "stdout",
          "text": [
            "True\n",
            "1\n",
            "Tesla T4\n",
            "cpu\n"
          ]
        }
      ]
    },
    {
      "cell_type": "markdown",
      "source": [
        "# Завдання 2\n",
        "Підключіть colab до процесора GPU, та знову виведіть інформацію про доступні процесори"
      ],
      "metadata": {
        "id": "xTLIVYQg6z5G"
      }
    },
    {
      "cell_type": "code",
      "source": [
        "device = torch.device('cuda' if torch.cuda.is_available() else 'cpu')\n",
        "\n",
        "tensor = torch.tensor([1, 2, 3])\n",
        "tensor = tensor.to(device)\n",
        "\n",
        "tensor"
      ],
      "metadata": {
        "id": "iVPWDF2D8dAM",
        "outputId": "fa2a3776-d2a3-472a-817a-478b00a43137",
        "colab": {
          "base_uri": "https://localhost:8080/"
        }
      },
      "execution_count": 6,
      "outputs": [
        {
          "output_type": "execute_result",
          "data": {
            "text/plain": [
              "tensor([1, 2, 3], device='cuda:0')"
            ]
          },
          "metadata": {},
          "execution_count": 6
        }
      ]
    },
    {
      "cell_type": "code",
      "source": [
        "device"
      ],
      "metadata": {
        "id": "NUfaYZ-24iM5",
        "outputId": "0edb23ef-3265-4411-e06e-c9944d43216f",
        "colab": {
          "base_uri": "https://localhost:8080/"
        }
      },
      "execution_count": 8,
      "outputs": [
        {
          "output_type": "execute_result",
          "data": {
            "text/plain": [
              "device(type='cuda')"
            ]
          },
          "metadata": {},
          "execution_count": 8
        }
      ]
    },
    {
      "cell_type": "code",
      "source": [
        "tensor = torch.tensor([1, 2, 3], device=device)\n",
        "tensor"
      ],
      "metadata": {
        "id": "f5nNIodi4qQV",
        "outputId": "eeaf1ff4-d649-4e8f-ce8d-ce19bcc59491",
        "colab": {
          "base_uri": "https://localhost:8080/"
        }
      },
      "execution_count": 9,
      "outputs": [
        {
          "output_type": "execute_result",
          "data": {
            "text/plain": [
              "tensor([1, 2, 3], device='cuda:0')"
            ]
          },
          "metadata": {},
          "execution_count": 9
        }
      ]
    },
    {
      "cell_type": "markdown",
      "source": [
        "# Завдання 3\n",
        "Створіть випадковий тензор розміру (2, 3). Виведіть інформацію про його:\n",
        "\n",
        "* розмір\n",
        "* тип даних\n",
        "* процесор\n",
        "* наявність градієнта"
      ],
      "metadata": {
        "id": "OkMil6fb7AiX"
      }
    },
    {
      "cell_type": "code",
      "source": [
        "tensor = torch.randn(2, 3)\n",
        "\n",
        "print(tensor.shape)\n",
        "print(tensor.dtype)\n",
        "print(tensor.device)\n",
        "print(tensor.requires_grad)"
      ],
      "metadata": {
        "id": "ih3MeOto8yrO",
        "outputId": "40e8c98c-fe1a-4933-ddee-4fdf55ecf6fc",
        "colab": {
          "base_uri": "https://localhost:8080/"
        }
      },
      "execution_count": 13,
      "outputs": [
        {
          "output_type": "stream",
          "name": "stdout",
          "text": [
            "torch.Size([2, 3])\n",
            "torch.float32\n",
            "cpu\n",
            "False\n"
          ]
        }
      ]
    },
    {
      "cell_type": "markdown",
      "source": [
        "# Завдання 4\n",
        "\n",
        "Створіть 2 тензора розміру 100. Використовуючи лише модуль `torch` обрахуйте середьню абсолютну похибку(mae) між ними. Виведіть результат як число"
      ],
      "metadata": {
        "id": "nNrrplv_9Vha"
      }
    },
    {
      "cell_type": "code",
      "source": [
        "tensor1 = torch.rand(100)\n",
        "tensor2 = torch.rand(100)\n",
        "\n",
        "mae = torch.abs(tensor1 - tensor2).mean()\n",
        "\n",
        "print(mae.item())"
      ],
      "metadata": {
        "id": "HybhfrBT9wT5",
        "outputId": "47042d8d-e7f6-4e06-99a0-602536a9d1a2",
        "colab": {
          "base_uri": "https://localhost:8080/"
        }
      },
      "execution_count": 14,
      "outputs": [
        {
          "output_type": "stream",
          "name": "stdout",
          "text": [
            "0.28640586137771606\n"
          ]
        }
      ]
    },
    {
      "cell_type": "markdown",
      "source": [
        "# Завдання 5\n",
        "\n",
        "Створіть 3 випадкових тензора з розмірами:\n",
        "* 32х28х28\n",
        "* 16х28х28\n",
        "* 64х28х28\n",
        "\n",
        "Об'єднайте їх по першій розмірності. Результат має мати розмір 112х28х28"
      ],
      "metadata": {
        "id": "JoU54G199w5-"
      }
    },
    {
      "cell_type": "code",
      "source": [
        "tensor1 = torch.randn(32, 28, 28)\n",
        "tensor2 = torch.randn(16, 28, 28)\n",
        "tensor3 = torch.randn(64, 28, 28)\n",
        "\n",
        "result = torch.cat((tensor1, tensor2, tensor3), dim=0)\n",
        "\n",
        "print(result)\n",
        "print(result.size())"
      ],
      "metadata": {
        "id": "Ar7NOowB-NBn",
        "outputId": "ae5f125a-413f-4686-f7e4-49373b16144f",
        "colab": {
          "base_uri": "https://localhost:8080/"
        }
      },
      "execution_count": 15,
      "outputs": [
        {
          "output_type": "stream",
          "name": "stdout",
          "text": [
            "tensor([[[-1.5038e+00,  9.7188e-01, -3.5879e-02,  ...,  5.0463e-01,\n",
            "          -7.4376e-01,  8.6473e-02],\n",
            "         [-1.8337e-01, -5.3411e-02, -5.8950e-01,  ..., -2.5850e-01,\n",
            "          -3.6499e-01,  2.2582e-01],\n",
            "         [-1.0303e+00, -2.7238e-01,  4.1925e-01,  ...,  8.9169e-01,\n",
            "          -6.8262e-01,  6.7231e-01],\n",
            "         ...,\n",
            "         [-4.8050e-01, -1.4293e+00,  7.9768e-01,  ..., -1.1734e+00,\n",
            "          -6.5780e-01,  1.5847e+00],\n",
            "         [ 1.6486e-01, -1.5944e+00,  2.9753e+00,  ...,  3.3740e-01,\n",
            "           6.2203e-01,  4.3243e-01],\n",
            "         [-2.6246e-01, -6.1189e-01, -7.3341e-02,  ...,  2.2103e+00,\n",
            "           1.5427e+00, -2.2080e-01]],\n",
            "\n",
            "        [[ 4.4678e-01,  5.0994e-01,  1.7751e+00,  ..., -4.0205e-02,\n",
            "          -1.0441e+00, -9.5785e-01],\n",
            "         [-2.2953e+00, -1.4874e+00, -1.9661e+00,  ...,  4.6245e-01,\n",
            "           3.9127e-01,  1.1839e+00],\n",
            "         [-1.0410e+00,  4.6923e-01,  1.7934e+00,  ...,  1.5528e+00,\n",
            "           6.7990e-01, -7.0237e-01],\n",
            "         ...,\n",
            "         [-1.1871e+00,  1.1996e+00,  1.0677e+00,  ...,  1.5458e+00,\n",
            "          -3.7105e-01, -4.6008e-04],\n",
            "         [ 2.1773e-02,  1.6551e+00,  3.1296e-01,  ...,  3.2240e-01,\n",
            "           8.1476e-01, -4.3157e-01],\n",
            "         [ 1.4919e-01, -1.5818e+00,  1.0367e+00,  ..., -3.3142e-01,\n",
            "          -3.2796e-01,  5.3951e-01]],\n",
            "\n",
            "        [[ 6.2470e-01, -2.3236e+00,  3.2504e-01,  ...,  6.0491e-01,\n",
            "           1.1841e+00,  4.3565e-01],\n",
            "         [ 2.7333e-01,  5.7203e-02, -9.6357e-01,  ..., -2.1431e+00,\n",
            "           4.1383e-01,  1.5811e-01],\n",
            "         [-5.3206e-02, -4.6769e-02,  1.8815e-01,  ..., -1.2029e+00,\n",
            "           8.7027e-01,  3.0702e-01],\n",
            "         ...,\n",
            "         [ 8.2801e-02, -1.2405e+00, -2.3612e-01,  ...,  1.6166e-01,\n",
            "           5.4501e-01,  1.3219e+00],\n",
            "         [-6.4138e-01,  5.4084e-01,  4.1229e-01,  ..., -1.6321e+00,\n",
            "          -9.6480e-01, -9.0849e-01],\n",
            "         [ 6.7595e-01,  8.5785e-01, -3.8274e-01,  ..., -2.0624e-01,\n",
            "          -1.6149e-01, -7.9261e-01]],\n",
            "\n",
            "        ...,\n",
            "\n",
            "        [[-1.1429e+00,  2.0314e+00, -1.3705e+00,  ...,  9.1710e-01,\n",
            "          -1.1660e+00,  1.6043e+00],\n",
            "         [-6.8721e-01,  5.4174e-01, -2.3906e-01,  ...,  6.4079e-02,\n",
            "          -5.0729e-01,  1.6643e+00],\n",
            "         [ 1.4213e-01, -2.6089e-01,  1.7950e+00,  ...,  2.5659e-01,\n",
            "           4.5588e-01,  1.0671e+00],\n",
            "         ...,\n",
            "         [-9.0310e-03, -2.1031e-01,  1.3815e+00,  ...,  3.7658e-02,\n",
            "           9.6221e-01,  1.4253e+00],\n",
            "         [ 2.4687e-03,  8.1737e-01,  1.6004e+00,  ..., -8.6695e-01,\n",
            "           2.2208e+00,  1.0323e+00],\n",
            "         [ 1.0206e+00,  5.1150e-01,  1.0795e+00,  ...,  2.0660e-01,\n",
            "          -1.8354e+00, -8.5764e-01]],\n",
            "\n",
            "        [[ 1.2541e+00,  5.3490e-02,  1.0433e+00,  ..., -4.0472e-01,\n",
            "           1.2605e+00,  1.8626e+00],\n",
            "         [-4.3411e-01, -9.4644e-01,  1.9194e+00,  ...,  7.7643e-01,\n",
            "           3.9779e-01, -9.6586e-01],\n",
            "         [ 1.4117e+00, -9.6330e-01,  1.8602e-01,  ..., -2.3204e-01,\n",
            "           1.0031e-02, -7.2492e-01],\n",
            "         ...,\n",
            "         [ 9.7879e-01,  1.7318e+00,  7.6261e-01,  ..., -2.1921e-01,\n",
            "           4.2474e-01, -2.2409e-01],\n",
            "         [ 7.1651e-01,  5.2046e-01, -1.4237e+00,  ...,  3.6824e-01,\n",
            "          -5.6330e-01, -2.9264e-01],\n",
            "         [-9.5304e-01, -2.5878e+00, -2.5632e-01,  ...,  4.2565e-01,\n",
            "           2.7823e-01,  1.3974e+00]],\n",
            "\n",
            "        [[ 1.0665e+00,  2.7111e-01, -1.4601e+00,  ...,  1.5912e+00,\n",
            "           1.0062e+00, -5.4808e-01],\n",
            "         [-1.1251e+00,  3.2108e-01,  1.1073e+00,  ..., -9.1757e-02,\n",
            "           4.5065e-01,  1.3059e-01],\n",
            "         [-3.5156e-01,  1.1177e+00, -1.2720e+00,  ..., -1.5683e+00,\n",
            "           1.1897e+00, -5.4503e-01],\n",
            "         ...,\n",
            "         [ 6.4474e-01,  2.5440e+00, -7.7987e-01,  ..., -1.9460e+00,\n",
            "          -1.9540e-01, -1.5282e+00],\n",
            "         [ 1.2049e+00, -3.1470e-01, -6.6672e-01,  ...,  8.5335e-01,\n",
            "           1.0209e-01, -1.9468e-01],\n",
            "         [ 2.2603e+00,  3.4086e-01,  1.5811e+00,  ..., -1.1311e-01,\n",
            "           2.0248e+00,  6.6172e-01]]])\n",
            "torch.Size([112, 28, 28])\n"
          ]
        }
      ]
    },
    {
      "cell_type": "markdown",
      "source": [
        "# Завдання 6\n",
        "Застосуйте метод градієнтного спуску для функції"
      ],
      "metadata": {
        "id": "8v4erUf8-Tnn"
      }
    },
    {
      "cell_type": "code",
      "source": [
        "def f(x):\n",
        "  return x**2/3 + torch.sin(torch.pi*x)"
      ],
      "metadata": {
        "id": "c89FE7vc-aWy"
      },
      "execution_count": 17,
      "outputs": []
    },
    {
      "cell_type": "code",
      "source": [
        "device = \"cuda\" if torch.cuda.is_available() else \"cpu\"\n",
        "torch.set_default_device(device)\n",
        "\n",
        "\n",
        "x = torch.tensor(2.0, requires_grad=True)\n",
        "\n",
        "learning_rate = 1e-3\n",
        "\n",
        "for t in range(2000):\n",
        "    loss = f(x)\n",
        "\n",
        "    loss.backward()\n",
        "\n",
        "    if t % 100 == 0:\n",
        "      print(f'{loss.item()=}')\n",
        "\n",
        "    with torch.no_grad():\n",
        "\n",
        "      x -= learning_rate*x.grad\n",
        "\n",
        "      x.grad = None"
      ],
      "metadata": {
        "id": "ncWDue-l5lDI",
        "outputId": "89b2b473-3881-43ca-c01b-436a52397555",
        "colab": {
          "base_uri": "https://localhost:8080/"
        }
      },
      "execution_count": 24,
      "outputs": [
        {
          "output_type": "stream",
          "name": "stdout",
          "text": [
            "loss.item()=1.3333334922790527\n",
            "loss.item()=-0.012307047843933105\n",
            "loss.item()=-0.26274728775024414\n",
            "loss.item()=-0.2934073805809021\n",
            "loss.item()=-0.29722774028778076\n",
            "loss.item()=-0.29771918058395386\n",
            "loss.item()=-0.2977832555770874\n",
            "loss.item()=-0.29779165983200073\n",
            "loss.item()=-0.29779279232025146\n",
            "loss.item()=-0.297792911529541\n",
            "loss.item()=-0.297792911529541\n",
            "loss.item()=-0.29779303073883057\n",
            "loss.item()=-0.29779285192489624\n",
            "loss.item()=-0.29779285192489624\n",
            "loss.item()=-0.29779285192489624\n",
            "loss.item()=-0.29779285192489624\n",
            "loss.item()=-0.29779285192489624\n",
            "loss.item()=-0.29779285192489624\n",
            "loss.item()=-0.29779285192489624\n",
            "loss.item()=-0.29779285192489624\n"
          ]
        }
      ]
    },
    {
      "cell_type": "markdown",
      "source": [
        "# Завдання 7\n",
        "Застосуйте метод градієнтного спуску для функції. Мінімум функції рівний 0"
      ],
      "metadata": {
        "id": "UjHK74ES-iuO"
      }
    },
    {
      "cell_type": "code",
      "source": [
        "def f1(x, y):\n",
        "  # функція Швефеля\n",
        "  return  418.9829*2 - x*torch.sin(x.abs().sqrt()) - y*torch.sin(y.abs().sqrt())\n",
        "\n",
        "def f2(x, y):\n",
        "  # трьохгорбна функція\n",
        "  return 2*x**2  - 1.05*x**4 + 1/6*x**6 + x*y  + y**2\n",
        "\n",
        "def f3(x, y):\n",
        "  # функція птах\n",
        "  return 106.7645 + torch.sin(x)*torch.exp((1-torch.cos(y))**2) + \\\n",
        "  torch.cos(y)*torch.exp((1-torch.sin(x))**2) + \\\n",
        "  (x-y)**2"
      ],
      "metadata": {
        "id": "vRD515Ik_xM-"
      },
      "execution_count": 21,
      "outputs": []
    },
    {
      "cell_type": "code",
      "source": [
        "def gr(f, learning_rate=1e-3):\n",
        "  device = \"cuda\" if torch.cuda.is_available() else \"cpu\"\n",
        "  torch.set_default_device(device)\n",
        "\n",
        "  x = torch.tensor(6.0, requires_grad=True, device=device)\n",
        "  y = torch.tensor(6.0, requires_grad=True, device=device)\n",
        "\n",
        "  for t in range(2000):\n",
        "      loss = f(x,y)\n",
        "\n",
        "      loss.backward()\n",
        "\n",
        "      #if t % 100 == 0:\n",
        "        #print(f'{loss.item()=}')\n",
        "\n",
        "      with torch.no_grad():\n",
        "\n",
        "        x -= learning_rate*x.grad\n",
        "\n",
        "        x.grad = None\n",
        "\n",
        "        y -= learning_rate*y.grad\n",
        "\n",
        "        y.grad = None\n",
        "\n",
        "  return x.item(), y.item(), loss.item()"
      ],
      "metadata": {
        "id": "j2RaZh9E-oyK"
      },
      "execution_count": 54,
      "outputs": []
    },
    {
      "cell_type": "code",
      "source": [
        "gr(f1)"
      ],
      "metadata": {
        "id": "uLcomATH61Lg",
        "outputId": "658d61d7-f152-454c-f6a5-fca11fc46f1f",
        "colab": {
          "base_uri": "https://localhost:8080/"
        }
      },
      "execution_count": 55,
      "outputs": [
        {
          "output_type": "execute_result",
          "data": {
            "text/plain": [
              "(5.579611778259277, 5.579611778259277, 830.1219482421875)"
            ]
          },
          "metadata": {},
          "execution_count": 55
        }
      ]
    },
    {
      "cell_type": "code",
      "source": [
        "gr(f2,1e-3)"
      ],
      "metadata": {
        "id": "7kCK1_WH7Uys",
        "outputId": "bcbcfc4a-18fb-4634-d382-fe4058188855",
        "colab": {
          "base_uri": "https://localhost:8080/"
        }
      },
      "execution_count": 62,
      "outputs": [
        {
          "output_type": "execute_result",
          "data": {
            "text/plain": [
              "(-1.757537841796875, 0.9799004793167114, 0.3094998598098755)"
            ]
          },
          "metadata": {},
          "execution_count": 62
        }
      ]
    },
    {
      "cell_type": "code",
      "source": [
        "gr(f3)"
      ],
      "metadata": {
        "id": "KlJr_C0A7YSH",
        "outputId": "a69de194-877f-4d6b-8bdc-695524d7f528",
        "colab": {
          "base_uri": "https://localhost:8080/"
        }
      },
      "execution_count": 41,
      "outputs": [
        {
          "output_type": "execute_result",
          "data": {
            "text/plain": [
              "(6.948032379150391, 7.188266277313232, 108.25152587890625)"
            ]
          },
          "metadata": {},
          "execution_count": 41
        }
      ]
    }
  ]
}