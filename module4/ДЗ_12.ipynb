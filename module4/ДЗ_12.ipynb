{
  "nbformat": 4,
  "nbformat_minor": 0,
  "metadata": {
    "colab": {
      "provenance": [],
      "gpuType": "T4",
      "include_colab_link": true
    },
    "kernelspec": {
      "name": "python3",
      "display_name": "Python 3"
    },
    "language_info": {
      "name": "python"
    },
    "accelerator": "GPU"
  },
  "cells": [
    {
      "cell_type": "markdown",
      "metadata": {
        "id": "view-in-github",
        "colab_type": "text"
      },
      "source": [
        "<a href=\"https://colab.research.google.com/github/VDidyk/AI/blob/master/module4/%D0%94%D0%97_12.ipynb\" target=\"_parent\"><img src=\"https://colab.research.google.com/assets/colab-badge.svg\" alt=\"Open In Colab\"/></a>"
      ]
    },
    {
      "cell_type": "markdown",
      "source": [
        "Імпорт модулів"
      ],
      "metadata": {
        "id": "w1r0k1UheNCz"
      }
    },
    {
      "cell_type": "code",
      "execution_count": 124,
      "metadata": {
        "id": "4XxgJqCDoExm"
      },
      "outputs": [],
      "source": [
        "import pandas as pd"
      ]
    },
    {
      "cell_type": "markdown",
      "source": [
        "Дані медичне страхування"
      ],
      "metadata": {
        "id": "Kpk2KycTeQEE"
      }
    },
    {
      "cell_type": "code",
      "source": [
        "# трохи обробки даних\n",
        "df = pd.read_csv('https://raw.githubusercontent.com/HalyshAnton/IT-Step-Pyton-AI/main/module3/data/insurance.csv')\n",
        "\n",
        "df['sex'] = df['sex'].map({'male': 0, 'female':1})\n",
        "df['smoker'] = df['smoker'].map({'no': 0, 'yes':1})\n",
        "\n",
        "df = df.drop(columns=['region'])\n",
        "\n",
        "data = df[['age', 'bmi', 'expenses']]\n",
        "df[['age', 'bmi', 'expenses']] = (data - data.min()) / (data.max() - data.min())"
      ],
      "metadata": {
        "id": "926S2f5pdnH6"
      },
      "execution_count": 125,
      "outputs": []
    },
    {
      "cell_type": "code",
      "source": [
        "df.head()"
      ],
      "metadata": {
        "colab": {
          "base_uri": "https://localhost:8080/",
          "height": 206
        },
        "id": "eG6_dawddqwd",
        "outputId": "2be8dda2-b287-497e-fe18-e2b20a6d1369"
      },
      "execution_count": 126,
      "outputs": [
        {
          "output_type": "execute_result",
          "data": {
            "text/plain": [
              "        age  sex       bmi  children  smoker  expenses\n",
              "0  0.021739    1  0.320755         0       1  0.251611\n",
              "1  0.000000    0  0.479784         1       0  0.009636\n",
              "2  0.217391    0  0.458221         3       0  0.053115\n",
              "3  0.326087    0  0.180593         0       0  0.333010\n",
              "4  0.304348    0  0.347709         0       0  0.043816"
            ],
            "text/html": [
              "\n",
              "  <div id=\"df-5537993a-96b0-4a32-80df-87b41c03db9f\" class=\"colab-df-container\">\n",
              "    <div>\n",
              "<style scoped>\n",
              "    .dataframe tbody tr th:only-of-type {\n",
              "        vertical-align: middle;\n",
              "    }\n",
              "\n",
              "    .dataframe tbody tr th {\n",
              "        vertical-align: top;\n",
              "    }\n",
              "\n",
              "    .dataframe thead th {\n",
              "        text-align: right;\n",
              "    }\n",
              "</style>\n",
              "<table border=\"1\" class=\"dataframe\">\n",
              "  <thead>\n",
              "    <tr style=\"text-align: right;\">\n",
              "      <th></th>\n",
              "      <th>age</th>\n",
              "      <th>sex</th>\n",
              "      <th>bmi</th>\n",
              "      <th>children</th>\n",
              "      <th>smoker</th>\n",
              "      <th>expenses</th>\n",
              "    </tr>\n",
              "  </thead>\n",
              "  <tbody>\n",
              "    <tr>\n",
              "      <th>0</th>\n",
              "      <td>0.021739</td>\n",
              "      <td>1</td>\n",
              "      <td>0.320755</td>\n",
              "      <td>0</td>\n",
              "      <td>1</td>\n",
              "      <td>0.251611</td>\n",
              "    </tr>\n",
              "    <tr>\n",
              "      <th>1</th>\n",
              "      <td>0.000000</td>\n",
              "      <td>0</td>\n",
              "      <td>0.479784</td>\n",
              "      <td>1</td>\n",
              "      <td>0</td>\n",
              "      <td>0.009636</td>\n",
              "    </tr>\n",
              "    <tr>\n",
              "      <th>2</th>\n",
              "      <td>0.217391</td>\n",
              "      <td>0</td>\n",
              "      <td>0.458221</td>\n",
              "      <td>3</td>\n",
              "      <td>0</td>\n",
              "      <td>0.053115</td>\n",
              "    </tr>\n",
              "    <tr>\n",
              "      <th>3</th>\n",
              "      <td>0.326087</td>\n",
              "      <td>0</td>\n",
              "      <td>0.180593</td>\n",
              "      <td>0</td>\n",
              "      <td>0</td>\n",
              "      <td>0.333010</td>\n",
              "    </tr>\n",
              "    <tr>\n",
              "      <th>4</th>\n",
              "      <td>0.304348</td>\n",
              "      <td>0</td>\n",
              "      <td>0.347709</td>\n",
              "      <td>0</td>\n",
              "      <td>0</td>\n",
              "      <td>0.043816</td>\n",
              "    </tr>\n",
              "  </tbody>\n",
              "</table>\n",
              "</div>\n",
              "    <div class=\"colab-df-buttons\">\n",
              "\n",
              "  <div class=\"colab-df-container\">\n",
              "    <button class=\"colab-df-convert\" onclick=\"convertToInteractive('df-5537993a-96b0-4a32-80df-87b41c03db9f')\"\n",
              "            title=\"Convert this dataframe to an interactive table.\"\n",
              "            style=\"display:none;\">\n",
              "\n",
              "  <svg xmlns=\"http://www.w3.org/2000/svg\" height=\"24px\" viewBox=\"0 -960 960 960\">\n",
              "    <path d=\"M120-120v-720h720v720H120Zm60-500h600v-160H180v160Zm220 220h160v-160H400v160Zm0 220h160v-160H400v160ZM180-400h160v-160H180v160Zm440 0h160v-160H620v160ZM180-180h160v-160H180v160Zm440 0h160v-160H620v160Z\"/>\n",
              "  </svg>\n",
              "    </button>\n",
              "\n",
              "  <style>\n",
              "    .colab-df-container {\n",
              "      display:flex;\n",
              "      gap: 12px;\n",
              "    }\n",
              "\n",
              "    .colab-df-convert {\n",
              "      background-color: #E8F0FE;\n",
              "      border: none;\n",
              "      border-radius: 50%;\n",
              "      cursor: pointer;\n",
              "      display: none;\n",
              "      fill: #1967D2;\n",
              "      height: 32px;\n",
              "      padding: 0 0 0 0;\n",
              "      width: 32px;\n",
              "    }\n",
              "\n",
              "    .colab-df-convert:hover {\n",
              "      background-color: #E2EBFA;\n",
              "      box-shadow: 0px 1px 2px rgba(60, 64, 67, 0.3), 0px 1px 3px 1px rgba(60, 64, 67, 0.15);\n",
              "      fill: #174EA6;\n",
              "    }\n",
              "\n",
              "    .colab-df-buttons div {\n",
              "      margin-bottom: 4px;\n",
              "    }\n",
              "\n",
              "    [theme=dark] .colab-df-convert {\n",
              "      background-color: #3B4455;\n",
              "      fill: #D2E3FC;\n",
              "    }\n",
              "\n",
              "    [theme=dark] .colab-df-convert:hover {\n",
              "      background-color: #434B5C;\n",
              "      box-shadow: 0px 1px 3px 1px rgba(0, 0, 0, 0.15);\n",
              "      filter: drop-shadow(0px 1px 2px rgba(0, 0, 0, 0.3));\n",
              "      fill: #FFFFFF;\n",
              "    }\n",
              "  </style>\n",
              "\n",
              "    <script>\n",
              "      const buttonEl =\n",
              "        document.querySelector('#df-5537993a-96b0-4a32-80df-87b41c03db9f button.colab-df-convert');\n",
              "      buttonEl.style.display =\n",
              "        google.colab.kernel.accessAllowed ? 'block' : 'none';\n",
              "\n",
              "      async function convertToInteractive(key) {\n",
              "        const element = document.querySelector('#df-5537993a-96b0-4a32-80df-87b41c03db9f');\n",
              "        const dataTable =\n",
              "          await google.colab.kernel.invokeFunction('convertToInteractive',\n",
              "                                                    [key], {});\n",
              "        if (!dataTable) return;\n",
              "\n",
              "        const docLinkHtml = 'Like what you see? Visit the ' +\n",
              "          '<a target=\"_blank\" href=https://colab.research.google.com/notebooks/data_table.ipynb>data table notebook</a>'\n",
              "          + ' to learn more about interactive tables.';\n",
              "        element.innerHTML = '';\n",
              "        dataTable['output_type'] = 'display_data';\n",
              "        await google.colab.output.renderOutput(dataTable, element);\n",
              "        const docLink = document.createElement('div');\n",
              "        docLink.innerHTML = docLinkHtml;\n",
              "        element.appendChild(docLink);\n",
              "      }\n",
              "    </script>\n",
              "  </div>\n",
              "\n",
              "\n",
              "<div id=\"df-58fc8475-3778-43e8-9f94-2e03cc767483\">\n",
              "  <button class=\"colab-df-quickchart\" onclick=\"quickchart('df-58fc8475-3778-43e8-9f94-2e03cc767483')\"\n",
              "            title=\"Suggest charts\"\n",
              "            style=\"display:none;\">\n",
              "\n",
              "<svg xmlns=\"http://www.w3.org/2000/svg\" height=\"24px\"viewBox=\"0 0 24 24\"\n",
              "     width=\"24px\">\n",
              "    <g>\n",
              "        <path d=\"M19 3H5c-1.1 0-2 .9-2 2v14c0 1.1.9 2 2 2h14c1.1 0 2-.9 2-2V5c0-1.1-.9-2-2-2zM9 17H7v-7h2v7zm4 0h-2V7h2v10zm4 0h-2v-4h2v4z\"/>\n",
              "    </g>\n",
              "</svg>\n",
              "  </button>\n",
              "\n",
              "<style>\n",
              "  .colab-df-quickchart {\n",
              "      --bg-color: #E8F0FE;\n",
              "      --fill-color: #1967D2;\n",
              "      --hover-bg-color: #E2EBFA;\n",
              "      --hover-fill-color: #174EA6;\n",
              "      --disabled-fill-color: #AAA;\n",
              "      --disabled-bg-color: #DDD;\n",
              "  }\n",
              "\n",
              "  [theme=dark] .colab-df-quickchart {\n",
              "      --bg-color: #3B4455;\n",
              "      --fill-color: #D2E3FC;\n",
              "      --hover-bg-color: #434B5C;\n",
              "      --hover-fill-color: #FFFFFF;\n",
              "      --disabled-bg-color: #3B4455;\n",
              "      --disabled-fill-color: #666;\n",
              "  }\n",
              "\n",
              "  .colab-df-quickchart {\n",
              "    background-color: var(--bg-color);\n",
              "    border: none;\n",
              "    border-radius: 50%;\n",
              "    cursor: pointer;\n",
              "    display: none;\n",
              "    fill: var(--fill-color);\n",
              "    height: 32px;\n",
              "    padding: 0;\n",
              "    width: 32px;\n",
              "  }\n",
              "\n",
              "  .colab-df-quickchart:hover {\n",
              "    background-color: var(--hover-bg-color);\n",
              "    box-shadow: 0 1px 2px rgba(60, 64, 67, 0.3), 0 1px 3px 1px rgba(60, 64, 67, 0.15);\n",
              "    fill: var(--button-hover-fill-color);\n",
              "  }\n",
              "\n",
              "  .colab-df-quickchart-complete:disabled,\n",
              "  .colab-df-quickchart-complete:disabled:hover {\n",
              "    background-color: var(--disabled-bg-color);\n",
              "    fill: var(--disabled-fill-color);\n",
              "    box-shadow: none;\n",
              "  }\n",
              "\n",
              "  .colab-df-spinner {\n",
              "    border: 2px solid var(--fill-color);\n",
              "    border-color: transparent;\n",
              "    border-bottom-color: var(--fill-color);\n",
              "    animation:\n",
              "      spin 1s steps(1) infinite;\n",
              "  }\n",
              "\n",
              "  @keyframes spin {\n",
              "    0% {\n",
              "      border-color: transparent;\n",
              "      border-bottom-color: var(--fill-color);\n",
              "      border-left-color: var(--fill-color);\n",
              "    }\n",
              "    20% {\n",
              "      border-color: transparent;\n",
              "      border-left-color: var(--fill-color);\n",
              "      border-top-color: var(--fill-color);\n",
              "    }\n",
              "    30% {\n",
              "      border-color: transparent;\n",
              "      border-left-color: var(--fill-color);\n",
              "      border-top-color: var(--fill-color);\n",
              "      border-right-color: var(--fill-color);\n",
              "    }\n",
              "    40% {\n",
              "      border-color: transparent;\n",
              "      border-right-color: var(--fill-color);\n",
              "      border-top-color: var(--fill-color);\n",
              "    }\n",
              "    60% {\n",
              "      border-color: transparent;\n",
              "      border-right-color: var(--fill-color);\n",
              "    }\n",
              "    80% {\n",
              "      border-color: transparent;\n",
              "      border-right-color: var(--fill-color);\n",
              "      border-bottom-color: var(--fill-color);\n",
              "    }\n",
              "    90% {\n",
              "      border-color: transparent;\n",
              "      border-bottom-color: var(--fill-color);\n",
              "    }\n",
              "  }\n",
              "</style>\n",
              "\n",
              "  <script>\n",
              "    async function quickchart(key) {\n",
              "      const quickchartButtonEl =\n",
              "        document.querySelector('#' + key + ' button');\n",
              "      quickchartButtonEl.disabled = true;  // To prevent multiple clicks.\n",
              "      quickchartButtonEl.classList.add('colab-df-spinner');\n",
              "      try {\n",
              "        const charts = await google.colab.kernel.invokeFunction(\n",
              "            'suggestCharts', [key], {});\n",
              "      } catch (error) {\n",
              "        console.error('Error during call to suggestCharts:', error);\n",
              "      }\n",
              "      quickchartButtonEl.classList.remove('colab-df-spinner');\n",
              "      quickchartButtonEl.classList.add('colab-df-quickchart-complete');\n",
              "    }\n",
              "    (() => {\n",
              "      let quickchartButtonEl =\n",
              "        document.querySelector('#df-58fc8475-3778-43e8-9f94-2e03cc767483 button');\n",
              "      quickchartButtonEl.style.display =\n",
              "        google.colab.kernel.accessAllowed ? 'block' : 'none';\n",
              "    })();\n",
              "  </script>\n",
              "</div>\n",
              "    </div>\n",
              "  </div>\n"
            ],
            "application/vnd.google.colaboratory.intrinsic+json": {
              "type": "dataframe",
              "variable_name": "df",
              "summary": "{\n  \"name\": \"df\",\n  \"rows\": 1338,\n  \"fields\": [\n    {\n      \"column\": \"age\",\n      \"properties\": {\n        \"dtype\": \"number\",\n        \"std\": 0.30543392128730773,\n        \"min\": 0.0,\n        \"max\": 1.0,\n        \"num_unique_values\": 47,\n        \"samples\": [\n          0.06521739130434782,\n          0.5869565217391305,\n          0.391304347826087\n        ],\n        \"semantic_type\": \"\",\n        \"description\": \"\"\n      }\n    },\n    {\n      \"column\": \"sex\",\n      \"properties\": {\n        \"dtype\": \"number\",\n        \"std\": 0,\n        \"min\": 0,\n        \"max\": 1,\n        \"num_unique_values\": 2,\n        \"samples\": [\n          0,\n          1\n        ],\n        \"semantic_type\": \"\",\n        \"description\": \"\"\n      }\n    },\n    {\n      \"column\": \"bmi\",\n      \"properties\": {\n        \"dtype\": \"number\",\n        \"std\": 0.1643768784367483,\n        \"min\": 0.0,\n        \"max\": 1.0,\n        \"num_unique_values\": 275,\n        \"samples\": [\n          0.339622641509434,\n          0.13207547169811315\n        ],\n        \"semantic_type\": \"\",\n        \"description\": \"\"\n      }\n    },\n    {\n      \"column\": \"children\",\n      \"properties\": {\n        \"dtype\": \"number\",\n        \"std\": 1,\n        \"min\": 0,\n        \"max\": 5,\n        \"num_unique_values\": 6,\n        \"samples\": [\n          0,\n          1\n        ],\n        \"semantic_type\": \"\",\n        \"description\": \"\"\n      }\n    },\n    {\n      \"column\": \"smoker\",\n      \"properties\": {\n        \"dtype\": \"number\",\n        \"std\": 0,\n        \"min\": 0,\n        \"max\": 1,\n        \"num_unique_values\": 2,\n        \"samples\": [\n          0,\n          1\n        ],\n        \"semantic_type\": \"\",\n        \"description\": \"\"\n      }\n    },\n    {\n      \"column\": \"expenses\",\n      \"properties\": {\n        \"dtype\": \"number\",\n        \"std\": 0.19330071177544175,\n        \"min\": 0.0,\n        \"max\": 1.0,\n        \"num_unique_values\": 1337,\n        \"samples\": [\n          0.12078473950558483,\n          0.07321796382869775\n        ],\n        \"semantic_type\": \"\",\n        \"description\": \"\"\n      }\n    }\n  ]\n}"
            }
          },
          "metadata": {},
          "execution_count": 126
        }
      ]
    },
    {
      "cell_type": "markdown",
      "source": [
        "Потрібно на основі інформації людини спрогнозувати розмір її страховки `expenses`"
      ],
      "metadata": {
        "id": "KAmkR_CFejgQ"
      }
    },
    {
      "cell_type": "markdown",
      "source": [
        "# Завдання 1\n",
        "Створіть клас Dataset"
      ],
      "metadata": {
        "id": "dBt0E5BJe6OK"
      }
    },
    {
      "cell_type": "code",
      "source": [
        "from torch.utils.data import Dataset\n",
        "import torch\n",
        "\n",
        "device = torch.device('cuda' if torch.cuda.is_available() else 'cpu')\n",
        "torch.set_default_device(device)\n",
        "\n",
        "\n",
        "class MyDataset(Dataset):\n",
        "    def __init__(self, X, y):\n",
        "      self.X = torch.FloatTensor(X.values).to(device)\n",
        "      self.y = torch.FloatTensor(y.values).to(device)\n",
        "      self.y = self.y.reshape(-1, 1)\n",
        "\n",
        "    def __len__(self):\n",
        "      return len(self.X)\n",
        "\n",
        "    def __getitem__(self, idx):\n",
        "      return self.X[idx], self.y[idx]\n",
        "\n",
        "# Create dataset object\n",
        "X = df.drop(columns=['expenses'])\n",
        "y = df['expenses']\n",
        "\n",
        "dataset = MyDataset(X, y)"
      ],
      "metadata": {
        "id": "vFtu1Wd1drwJ"
      },
      "execution_count": 127,
      "outputs": []
    },
    {
      "cell_type": "markdown",
      "source": [
        "# Завдання 2\n",
        "Створіть DataLoader. Перевірте розміри даних в першому пакеті. Розмір пакетів оберіть самостійно"
      ],
      "metadata": {
        "id": "zQlB_6WzfB8n"
      }
    },
    {
      "cell_type": "code",
      "source": [
        "from torch.utils.data import DataLoader\n",
        "\n",
        "batch_size = 128\n",
        "dataloader = DataLoader(dataset,\n",
        "                        batch_size=batch_size,\n",
        "                        shuffle=True,\n",
        "                        generator=torch.Generator(device=device)\n",
        ")"
      ],
      "metadata": {
        "id": "-6-po4H4fZQy"
      },
      "execution_count": 128,
      "outputs": []
    },
    {
      "cell_type": "code",
      "source": [
        "X_batch, y_batch = next(iter(dataloader))\n",
        "X_batch.shape"
      ],
      "metadata": {
        "id": "deIYfJPILWsv",
        "outputId": "7c39e2fc-532a-4a58-8793-db23ce9d4c74",
        "colab": {
          "base_uri": "https://localhost:8080/"
        }
      },
      "execution_count": 129,
      "outputs": [
        {
          "output_type": "execute_result",
          "data": {
            "text/plain": [
              "torch.Size([128, 5])"
            ]
          },
          "metadata": {},
          "execution_count": 129
        }
      ]
    },
    {
      "cell_type": "markdown",
      "source": [
        "# Завдання 3\n",
        "Створіть нейромережу:\n",
        "* Кількість шарів оберіть між 1-5\n",
        "* Виберіть різні функції активації: Relu, LeakyRelu, Swish\n",
        "* Кілкість нейронів у прихованих шарах повинна **не зростати**"
      ],
      "metadata": {
        "id": "2W93LiDxfZrx"
      }
    },
    {
      "cell_type": "code",
      "source": [
        "from torch import nn\n",
        "\n",
        "\n",
        "model = nn.Sequential(\n",
        "    nn.Linear(5, 5),\n",
        "    nn.LeakyReLU(2),\n",
        "    nn.Linear(5, 4),\n",
        "    nn.LeakyReLU(2),\n",
        "    nn.Linear(4, 1)\n",
        ")\n",
        "\n",
        "model"
      ],
      "metadata": {
        "id": "p9DHog7Xf7xE",
        "outputId": "ce8dfc66-9e20-40e3-e378-6eec5fcb1a7e",
        "colab": {
          "base_uri": "https://localhost:8080/"
        }
      },
      "execution_count": 130,
      "outputs": [
        {
          "output_type": "execute_result",
          "data": {
            "text/plain": [
              "Sequential(\n",
              "  (0): Linear(in_features=5, out_features=5, bias=True)\n",
              "  (1): LeakyReLU(negative_slope=2)\n",
              "  (2): Linear(in_features=5, out_features=4, bias=True)\n",
              "  (3): LeakyReLU(negative_slope=2)\n",
              "  (4): Linear(in_features=4, out_features=1, bias=True)\n",
              ")"
            ]
          },
          "metadata": {},
          "execution_count": 130
        }
      ]
    },
    {
      "cell_type": "code",
      "source": [
        "from torchsummary import summary\n",
        "\n",
        "summary(model, input_size=(5,))"
      ],
      "metadata": {
        "id": "cngQbGYvLjJI",
        "outputId": "a6c5f405-cd66-4efe-caef-c1477e25d89b",
        "colab": {
          "base_uri": "https://localhost:8080/"
        }
      },
      "execution_count": 131,
      "outputs": [
        {
          "output_type": "stream",
          "name": "stdout",
          "text": [
            "----------------------------------------------------------------\n",
            "        Layer (type)               Output Shape         Param #\n",
            "================================================================\n",
            "            Linear-1                    [-1, 5]              30\n",
            "         LeakyReLU-2                    [-1, 5]               0\n",
            "            Linear-3                    [-1, 4]              24\n",
            "         LeakyReLU-4                    [-1, 4]               0\n",
            "            Linear-5                    [-1, 1]               5\n",
            "================================================================\n",
            "Total params: 59\n",
            "Trainable params: 59\n",
            "Non-trainable params: 0\n",
            "----------------------------------------------------------------\n",
            "Input size (MB): 0.00\n",
            "Forward/backward pass size (MB): 0.00\n",
            "Params size (MB): 0.00\n",
            "Estimated Total Size (MB): 0.00\n",
            "----------------------------------------------------------------\n"
          ]
        }
      ]
    },
    {
      "cell_type": "markdown",
      "source": [
        "# Завдання 4\n",
        "Визначте функцію втрат та оптимізатор"
      ],
      "metadata": {
        "id": "VmNUVkkUf8gB"
      }
    },
    {
      "cell_type": "code",
      "source": [
        "loss_fn = nn.MSELoss()\n",
        "optimizer = torch.optim.SGD(model.parameters(), lr=0.001)"
      ],
      "metadata": {
        "id": "e1sw9oRBgDXR"
      },
      "execution_count": 132,
      "outputs": []
    },
    {
      "cell_type": "markdown",
      "source": [
        "# Завдання 5\n",
        "Натренуйте нейромережу. візміть невелику кількість епох"
      ],
      "metadata": {
        "id": "qTOFCl_egEFZ"
      }
    },
    {
      "cell_type": "code",
      "source": [
        "import numpy as np\n",
        "\n",
        "num_epochs = 300\n",
        "\n",
        "losses=[]\n",
        "for epoch in range(num_epochs):\n",
        "  losses_ = []\n",
        "  for X_batch, y_batch in dataloader:\n",
        "        y_pred = model(X_batch)\n",
        "        loss = loss_fn(y_pred, y_batch)\n",
        "        losses_.append(loss.item())\n",
        "\n",
        "        loss.backward()\n",
        "        optimizer.step()\n",
        "        optimizer.zero_grad()\n",
        "\n",
        "  losses.append(np.mean(losses_))\n",
        "\n",
        "  if epoch % 1 == 0:\n",
        "          print(f'loss={losses[-1]}')\n"
      ],
      "metadata": {
        "id": "Nxo4p3IUgOx5",
        "outputId": "c459bf97-3d02-48fa-c2ae-60ac984d4763",
        "colab": {
          "base_uri": "https://localhost:8080/"
        }
      },
      "execution_count": 133,
      "outputs": [
        {
          "output_type": "stream",
          "name": "stdout",
          "text": [
            "loss=0.09474075111475858\n",
            "loss=0.0908595926382325\n",
            "loss=0.08615189655260606\n",
            "loss=0.08269771933555603\n",
            "loss=0.07894393666224046\n",
            "loss=0.0761718824505806\n",
            "loss=0.07343119518323378\n",
            "loss=0.07091176103461873\n",
            "loss=0.06843542612411758\n",
            "loss=0.06718036058274182\n",
            "loss=0.06505571373484352\n",
            "loss=0.06306272778998721\n",
            "loss=0.06147113171490756\n",
            "loss=0.05999884314157746\n",
            "loss=0.05810715156522664\n",
            "loss=0.057354300198229874\n",
            "loss=0.055786279114809906\n",
            "loss=0.05506904592568224\n",
            "loss=0.05395781011743979\n",
            "loss=0.05351139164783738\n",
            "loss=0.051817896352572876\n",
            "loss=0.05197490311481736\n",
            "loss=0.0517890297553756\n",
            "loss=0.04998979819091884\n",
            "loss=0.04917756840586662\n",
            "loss=0.049662797288461166\n",
            "loss=0.04872479323636402\n",
            "loss=0.047982361844994804\n",
            "loss=0.04747659306634556\n",
            "loss=0.04735529659823938\n",
            "loss=0.04727844656868414\n",
            "loss=0.04637350345199758\n",
            "loss=0.04677218808369203\n",
            "loss=0.04582927172834223\n",
            "loss=0.0449758805334568\n",
            "loss=0.044761963188648224\n",
            "loss=0.04564775594256141\n",
            "loss=0.04431414807384664\n",
            "loss=0.04402336850762367\n",
            "loss=0.044178755445913834\n",
            "loss=0.043975944884798744\n",
            "loss=0.04446147145195441\n",
            "loss=0.04337497732856057\n",
            "loss=0.042629078369249\n",
            "loss=0.04319390891627832\n",
            "loss=0.04347883740609342\n",
            "loss=0.04216703637079759\n",
            "loss=0.04196394675157287\n",
            "loss=0.04169555702670054\n",
            "loss=0.042609337378631935\n",
            "loss=0.04233787682923404\n",
            "loss=0.04161927611990408\n",
            "loss=0.04121487265960737\n",
            "loss=0.04227261888709935\n",
            "loss=0.04206966270099987\n",
            "loss=0.041311036456714974\n",
            "loss=0.04125698249448429\n",
            "loss=0.04168797318230976\n",
            "loss=0.04119035804813558\n",
            "loss=0.040067321536215866\n",
            "loss=0.041089195758104324\n",
            "loss=0.04050743952393532\n",
            "loss=0.040596931156787\n",
            "loss=0.04031874713572589\n",
            "loss=0.04135539890690283\n",
            "loss=0.040165842256762764\n",
            "loss=0.04021015119823543\n",
            "loss=0.03995515981858427\n",
            "loss=0.03965199772607197\n",
            "loss=0.03958152624016458\n",
            "loss=0.040258214555003426\n",
            "loss=0.04010703685608777\n",
            "loss=0.03996957990933548\n",
            "loss=0.04072107205336744\n",
            "loss=0.0400907676666975\n",
            "loss=0.03982362523674965\n",
            "loss=0.039311639964580536\n",
            "loss=0.03967584263194691\n",
            "loss=0.039477182044224304\n",
            "loss=0.03948864205317064\n",
            "loss=0.03955241766842929\n",
            "loss=0.038274203850464386\n",
            "loss=0.039189285175366836\n",
            "loss=0.03934569250453602\n",
            "loss=0.038775342093272644\n",
            "loss=0.03954564068805088\n",
            "loss=0.038909197530963203\n",
            "loss=0.039400416341694916\n",
            "loss=0.03942205435173078\n",
            "loss=0.03962189196185632\n",
            "loss=0.03864692320877856\n",
            "loss=0.038713283498178826\n",
            "loss=0.038407986306331375\n",
            "loss=0.03806976347484372\n",
            "loss=0.039025710387663406\n",
            "loss=0.038718688217076386\n",
            "loss=0.03882471218027852\n",
            "loss=0.03804051080210642\n",
            "loss=0.03795004466717893\n",
            "loss=0.038768892769109116\n",
            "loss=0.03779502060603012\n",
            "loss=0.03881057758222927\n",
            "loss=0.03770904615521431\n",
            "loss=0.03821141950108788\n",
            "loss=0.03792847320437431\n",
            "loss=0.037914023819294845\n",
            "loss=0.03719873319972645\n",
            "loss=0.0377476244148883\n",
            "loss=0.03787511688741771\n",
            "loss=0.03713642924346707\n",
            "loss=0.03778860447081653\n",
            "loss=0.037579514763572\n",
            "loss=0.03781715543432669\n",
            "loss=0.03719719736413522\n",
            "loss=0.03661550970917398\n",
            "loss=0.03787695718082515\n",
            "loss=0.036713492971929634\n",
            "loss=0.03765436736020175\n",
            "loss=0.037188521501692856\n",
            "loss=0.038227144967425956\n",
            "loss=0.03683114492080428\n",
            "loss=0.03725462864068421\n",
            "loss=0.0369438168338754\n",
            "loss=0.03756537339226766\n",
            "loss=0.036472701213576576\n",
            "loss=0.03708641755987297\n",
            "loss=0.03697074289348992\n",
            "loss=0.03654248724606904\n",
            "loss=0.036612056026404556\n",
            "loss=0.03713877532969822\n",
            "loss=0.03666656684469093\n",
            "loss=0.03670393489301205\n",
            "loss=0.03694969398731535\n",
            "loss=0.03623776865953749\n",
            "loss=0.03701195188544013\n",
            "loss=0.03598427366126667\n",
            "loss=0.03706600347703153\n",
            "loss=0.03641803528774868\n",
            "loss=0.035953208126805046\n",
            "loss=0.03635111654346639\n",
            "loss=0.0364638241854581\n",
            "loss=0.036131367426026954\n",
            "loss=0.03573149358007041\n",
            "loss=0.036136973310600624\n",
            "loss=0.035849803550676865\n",
            "loss=0.03578659299422394\n",
            "loss=0.03639963066036051\n",
            "loss=0.0365821798755364\n",
            "loss=0.03603051568974148\n",
            "loss=0.03606075082312931\n",
            "loss=0.03633488579229875\n",
            "loss=0.036047061905264854\n",
            "loss=0.0367338935082609\n",
            "loss=0.03561784818091176\n",
            "loss=0.03593204796991565\n",
            "loss=0.03573631529103626\n",
            "loss=0.03584931299767711\n",
            "loss=0.035125595263459465\n",
            "loss=0.03555931371044029\n",
            "loss=0.03543195128440857\n",
            "loss=0.035354620184410705\n",
            "loss=0.03587109392339533\n",
            "loss=0.0353012029081583\n",
            "loss=0.035594884983517906\n",
            "loss=0.03501683050258593\n",
            "loss=0.03514809144491499\n",
            "loss=0.035370709374547005\n",
            "loss=0.03536116484213959\n",
            "loss=0.035018775781447235\n",
            "loss=0.03498838808048855\n",
            "loss=0.034792910583994606\n",
            "loss=0.03508886153047735\n",
            "loss=0.03446911529383876\n",
            "loss=0.034161083569580857\n",
            "loss=0.0346567209132693\n",
            "loss=0.03496126695112749\n",
            "loss=0.03527273339304057\n",
            "loss=0.034713175147771835\n",
            "loss=0.0344705938954245\n",
            "loss=0.03424351154403253\n",
            "loss=0.03443841907111081\n",
            "loss=0.034679091620174324\n",
            "loss=0.03467759727077051\n",
            "loss=0.03390848027034239\n",
            "loss=0.03463359956036915\n",
            "loss=0.035135407678105614\n",
            "loss=0.03492292541671883\n",
            "loss=0.03521141884001819\n",
            "loss=0.03401456671682271\n",
            "loss=0.03406467932191762\n",
            "loss=0.033760512925007126\n",
            "loss=0.03397125920111483\n",
            "loss=0.03450460054657676\n",
            "loss=0.03373690305108374\n",
            "loss=0.0333191684701226\n",
            "loss=0.033592143350026825\n",
            "loss=0.03374484299936078\n",
            "loss=0.03417726961726492\n",
            "loss=0.033818452365019104\n",
            "loss=0.033830746161666786\n",
            "loss=0.033421790396625344\n",
            "loss=0.03408622826364907\n",
            "loss=0.03408414328640157\n",
            "loss=0.03436259027909149\n",
            "loss=0.03464898737994107\n",
            "loss=0.03333818167448044\n",
            "loss=0.0337137220935388\n",
            "loss=0.0333003963936459\n",
            "loss=0.033324163407087326\n",
            "loss=0.03445553457872434\n",
            "loss=0.033418582413684235\n",
            "loss=0.03348266892135143\n",
            "loss=0.03318759985268116\n",
            "loss=0.03295485099608248\n",
            "loss=0.0339175665920431\n",
            "loss=0.03445133465257558\n",
            "loss=0.0331446152519096\n",
            "loss=0.03341299752620133\n",
            "loss=0.03301175446672873\n",
            "loss=0.03311316787519238\n",
            "loss=0.032982589676976204\n",
            "loss=0.03335580534555695\n",
            "loss=0.032846379009160126\n",
            "loss=0.03375450199977918\n",
            "loss=0.03322213752703233\n",
            "loss=0.03337241302837025\n",
            "loss=0.033238197253509\n",
            "loss=0.03297405588355931\n",
            "loss=0.032928643240170044\n",
            "loss=0.03296968036077239\n",
            "loss=0.03309674036096443\n",
            "loss=0.03221261569044807\n",
            "loss=0.03239570795135065\n",
            "loss=0.03286146440289237\n",
            "loss=0.03245479596609419\n",
            "loss=0.033326401629231193\n",
            "loss=0.032617312263358726\n",
            "loss=0.03207495554604314\n",
            "loss=0.03307982330972498\n",
            "loss=0.03297699192030863\n",
            "loss=0.03173619356345047\n",
            "loss=0.032176380469040436\n",
            "loss=0.0324815647168593\n",
            "loss=0.0322706877169284\n",
            "loss=0.03250738809054548\n",
            "loss=0.031779466874220154\n",
            "loss=0.03264664147387852\n",
            "loss=0.03350978818806735\n",
            "loss=0.03201646188443357\n",
            "loss=0.03214657763865861\n",
            "loss=0.032938565042885865\n",
            "loss=0.03242692639204589\n",
            "loss=0.032584641806103966\n",
            "loss=0.03253380175341259\n",
            "loss=0.03195724653249437\n",
            "loss=0.03168200464411215\n",
            "loss=0.03189903362230821\n",
            "loss=0.03191683830862695\n",
            "loss=0.03175948509438471\n",
            "loss=0.03158894028853287\n",
            "loss=0.03201959383758632\n",
            "loss=0.031661957163702355\n",
            "loss=0.0311168601567095\n",
            "loss=0.031772852282632484\n",
            "loss=0.03136080655861984\n",
            "loss=0.03127518211576072\n",
            "loss=0.03191412545063279\n",
            "loss=0.03188620101321827\n",
            "loss=0.032024877315217797\n",
            "loss=0.03227630105208267\n",
            "loss=0.031638099388642746\n",
            "loss=0.03167061626233838\n",
            "loss=0.031165679070082577\n",
            "loss=0.03214885870164091\n",
            "loss=0.030950569971041245\n",
            "loss=0.031251317228783264\n",
            "loss=0.030753304335204037\n",
            "loss=0.031006396663459865\n",
            "loss=0.031058351424607365\n",
            "loss=0.031222208487716587\n",
            "loss=0.03149856914850799\n",
            "loss=0.031373013657602394\n",
            "loss=0.031545788049697876\n",
            "loss=0.030412472615187817\n",
            "loss=0.031027700074694374\n",
            "loss=0.031936245039105415\n",
            "loss=0.031520108777013695\n",
            "loss=0.03090768171982332\n",
            "loss=0.030795542015270752\n",
            "loss=0.03135083717378703\n",
            "loss=0.030784209004857323\n",
            "loss=0.030643614347685467\n",
            "loss=0.03084405376152559\n",
            "loss=0.030331933362917465\n",
            "loss=0.030594299124045807\n",
            "loss=0.03050243922255256\n",
            "loss=0.03072243387048895\n",
            "loss=0.03033110499382019\n",
            "loss=0.030342517081986774\n",
            "loss=0.03093403052877296\n"
          ]
        }
      ]
    },
    {
      "cell_type": "code",
      "source": [
        "import matplotlib.pyplot as plt\n",
        "\n",
        "plt.plot(losses)\n",
        "plt.ylim(0, 0.5)"
      ],
      "metadata": {
        "id": "bdmIvFpwLzLr",
        "outputId": "4eddb861-8c23-4c32-db8f-3286b45f4ecd",
        "colab": {
          "base_uri": "https://localhost:8080/",
          "height": 453
        }
      },
      "execution_count": 134,
      "outputs": [
        {
          "output_type": "execute_result",
          "data": {
            "text/plain": [
              "(0.0, 0.5)"
            ]
          },
          "metadata": {},
          "execution_count": 134
        },
        {
          "output_type": "display_data",
          "data": {
            "text/plain": [
              "<Figure size 640x480 with 1 Axes>"
            ],
            "image/png": "[encoded data removed]"
          },
          "metadata": {}
        }
      ]
    },
    {
      "cell_type": "markdown",
      "source": [
        "# Завдання 6\n",
        "Збережіть нейромережу та зробіть прогноз"
      ],
      "metadata": {
        "id": "aoclw4XlgPhB"
      }
    },
    {
      "cell_type": "code",
      "source": [
        "torch.save(model.state_dict(), 'model_state_dict.pt')"
      ],
      "metadata": {
        "id": "UzVFg-KjgYgy"
      },
      "execution_count": 135,
      "outputs": []
    },
    {
      "cell_type": "code",
      "source": [
        "model.load_state_dict(torch.load('model_state_dict.pt'))"
      ],
      "metadata": {
        "id": "FZco5dGgMMPa",
        "outputId": "473f6234-5670-4498-929f-20c389da899a",
        "colab": {
          "base_uri": "https://localhost:8080/"
        }
      },
      "execution_count": 136,
      "outputs": [
        {
          "output_type": "execute_result",
          "data": {
            "text/plain": [
              "<All keys matched successfully>"
            ]
          },
          "metadata": {},
          "execution_count": 136
        }
      ]
    },
    {
      "cell_type": "code",
      "source": [
        "y[0]"
      ],
      "metadata": {
        "id": "Cu3eVx5IMQgc",
        "outputId": "d90ac0ba-5043-47f9-99b1-488d437450aa",
        "colab": {
          "base_uri": "https://localhost:8080/"
        }
      },
      "execution_count": 137,
      "outputs": [
        {
          "output_type": "execute_result",
          "data": {
            "text/plain": [
              "0.25161073135599604"
            ]
          },
          "metadata": {},
          "execution_count": 137
        }
      ]
    },
    {
      "cell_type": "code",
      "source": [
        "X_data = torch.FloatTensor(X.values[[0]])\n",
        "X_data = X_data.to(device)\n",
        "\n",
        "print(X_data)\n",
        "print(X_data.shape)"
      ],
      "metadata": {
        "id": "WML5s5vSMTFa",
        "outputId": "07fe6323-386c-49e4-d923-12991fea9079",
        "colab": {
          "base_uri": "https://localhost:8080/"
        }
      },
      "execution_count": 138,
      "outputs": [
        {
          "output_type": "stream",
          "name": "stdout",
          "text": [
            "tensor([[0.0217, 1.0000, 0.3208, 0.0000, 1.0000]], device='cuda:0')\n",
            "torch.Size([1, 5])\n"
          ]
        }
      ]
    },
    {
      "cell_type": "code",
      "source": [
        "model(X_data)"
      ],
      "metadata": {
        "id": "zhTSBsOUMW1E",
        "outputId": "8bf59a9a-c103-4f67-f6f7-e6587debc5ba",
        "colab": {
          "base_uri": "https://localhost:8080/"
        }
      },
      "execution_count": 139,
      "outputs": [
        {
          "output_type": "execute_result",
          "data": {
            "text/plain": [
              "tensor([[0.2264]], device='cuda:0', grad_fn=<AddmmBackward0>)"
            ]
          },
          "metadata": {},
          "execution_count": 139
        }
      ]
    },
    {
      "cell_type": "code",
      "source": [
        "with torch.no_grad(): # без градієнтів\n",
        "  print(model(X_data))"
      ],
      "metadata": {
        "id": "6EawroGqMb96",
        "outputId": "8a2e53b0-a204-4790-bbac-7a1be55af006",
        "colab": {
          "base_uri": "https://localhost:8080/"
        }
      },
      "execution_count": 140,
      "outputs": [
        {
          "output_type": "stream",
          "name": "stdout",
          "text": [
            "tensor([[0.2264]], device='cuda:0')\n"
          ]
        }
      ]
    }
  ]
}