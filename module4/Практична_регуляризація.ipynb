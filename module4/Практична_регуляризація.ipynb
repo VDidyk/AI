{
  "nbformat": 4,
  "nbformat_minor": 0,
  "metadata": {
    "colab": {
      "provenance": [],
      "include_colab_link": true
    },
    "kernelspec": {
      "name": "python3",
      "display_name": "Python 3"
    },
    "language_info": {
      "name": "python"
    }
  },
  "cells": [
    {
      "cell_type": "markdown",
      "metadata": {
        "id": "view-in-github",
        "colab_type": "text"
      },
      "source": [
        "<a href=\"https://colab.research.google.com/github/VDidyk/AI/blob/master/module4/%D0%9F%D1%80%D0%B0%D0%BA%D1%82%D0%B8%D1%87%D0%BD%D0%B0_%D1%80%D0%B5%D0%B3%D1%83%D0%BB%D1%8F%D1%80%D0%B8%D0%B7%D0%B0%D1%86%D1%96%D1%8F.ipynb\" target=\"_parent\"><img src=\"https://colab.research.google.com/assets/colab-badge.svg\" alt=\"Open In Colab\"/></a>"
      ]
    },
    {
      "cell_type": "markdown",
      "source": [
        "Імпорт модулів"
      ],
      "metadata": {
        "id": "w1r0k1UheNCz"
      }
    },
    {
      "cell_type": "code",
      "execution_count": 146,
      "metadata": {
        "id": "4XxgJqCDoExm"
      },
      "outputs": [],
      "source": [
        "import pandas as pd"
      ]
    },
    {
      "cell_type": "markdown",
      "source": [
        "Дані про розпад протонів\n",
        "\n",
        "[посилання](https://www.kaggle.com/datasets/fedesoriano/multijet-primary-dataset)"
      ],
      "metadata": {
        "id": "Kpk2KycTeQEE"
      }
    },
    {
      "cell_type": "code",
      "source": [
        "# трохи обробки даних\n",
        "df = pd.read_csv('https://raw.githubusercontent.com/HalyshAnton/IT-Step-Pyton-AI/main/module3/data/MultiJetRun2010B.csv')\n",
        "\n",
        "df = df[df['nBJets'] != 2]\n",
        "\n",
        "columns = df.columns.delete(-1)\n",
        "data = df[columns]\n",
        "df[columns] = (data - data.min()) / (data.max() - data.min())"
      ],
      "metadata": {
        "id": "926S2f5pdnH6"
      },
      "execution_count": 147,
      "outputs": []
    },
    {
      "cell_type": "markdown",
      "source": [
        "Дані погано збалансовані"
      ],
      "metadata": {
        "id": "Mq24yRptMSrO"
      }
    },
    {
      "cell_type": "code",
      "source": [
        "df['nBJets'].value_counts()"
      ],
      "metadata": {
        "id": "X6CQ04GdKnuu",
        "outputId": "69a2d783-715f-4dca-bae5-2e2e5579579c",
        "colab": {
          "base_uri": "https://localhost:8080/"
        }
      },
      "execution_count": 148,
      "outputs": [
        {
          "output_type": "execute_result",
          "data": {
            "text/plain": [
              "nBJets\n",
              "0    20615\n",
              "1     1056\n",
              "Name: count, dtype: int64"
            ]
          },
          "metadata": {},
          "execution_count": 148
        }
      ]
    },
    {
      "cell_type": "code",
      "source": [
        "df.head()"
      ],
      "metadata": {
        "colab": {
          "base_uri": "https://localhost:8080/",
          "height": 206
        },
        "id": "eG6_dawddqwd",
        "outputId": "70b05e2b-b8c0-4691-9115-fff50353aa13"
      },
      "execution_count": 149,
      "outputs": [
        {
          "output_type": "execute_result",
          "data": {
            "text/plain": [
              "        Run  Lumi     Event        MR       Rsq        E1       Px1       Py1  \\\n",
              "0  0.082072   0.0  0.000002  0.077191  0.041860  0.044618  0.342725  0.531326   \n",
              "1  0.082072   0.0  0.000006  0.052182  0.055190  0.018690  0.493614  0.585784   \n",
              "2  0.082072   0.0  0.000015  0.154156  0.035263  0.101251  0.540018  0.671386   \n",
              "3  0.082072   0.0  0.000048  0.106599  0.123328  0.063472  0.306290  0.523352   \n",
              "4  0.082072   0.0  0.000063  0.072599  0.024611  0.383563  0.508826  0.564737   \n",
              "\n",
              "        Pz1        E2       Px2       Py2       Pz2        HT       MET  \\\n",
              "0  0.480732  0.055588  0.696681  0.457241  0.440224  0.061659  0.043047   \n",
              "1  0.491979  0.017684  0.567978  0.430552  0.474613  0.025133  0.034687   \n",
              "2  0.470196  0.273968  0.533484  0.338381  0.325311  0.165718  0.059381   \n",
              "3  0.483465  0.039306  0.713922  0.422854  0.493248  0.101707  0.108566   \n",
              "4  0.292545  0.224039  0.550834  0.433906  0.361549  0.110721  0.018941   \n",
              "\n",
              "   nJets  nBJets  \n",
              "0    0.0       0  \n",
              "1    0.0       0  \n",
              "2    0.2       0  \n",
              "3    0.0       0  \n",
              "4    0.2       0  "
            ],
            "text/html": [
              "\n",
              "  <div id=\"df-d6471d0f-8eee-4695-88f7-b19ede01d26c\" class=\"colab-df-container\">\n",
              "    <div>\n",
              "<style scoped>\n",
              "    .dataframe tbody tr th:only-of-type {\n",
              "        vertical-align: middle;\n",
              "    }\n",
              "\n",
              "    .dataframe tbody tr th {\n",
              "        vertical-align: top;\n",
              "    }\n",
              "\n",
              "    .dataframe thead th {\n",
              "        text-align: right;\n",
              "    }\n",
              "</style>\n",
              "<table border=\"1\" class=\"dataframe\">\n",
              "  <thead>\n",
              "    <tr style=\"text-align: right;\">\n",
              "      <th></th>\n",
              "      <th>Run</th>\n",
              "      <th>Lumi</th>\n",
              "      <th>Event</th>\n",
              "      <th>MR</th>\n",
              "      <th>Rsq</th>\n",
              "      <th>E1</th>\n",
              "      <th>Px1</th>\n",
              "      <th>Py1</th>\n",
              "      <th>Pz1</th>\n",
              "      <th>E2</th>\n",
              "      <th>Px2</th>\n",
              "      <th>Py2</th>\n",
              "      <th>Pz2</th>\n",
              "      <th>HT</th>\n",
              "      <th>MET</th>\n",
              "      <th>nJets</th>\n",
              "      <th>nBJets</th>\n",
              "    </tr>\n",
              "  </thead>\n",
              "  <tbody>\n",
              "    <tr>\n",
              "      <th>0</th>\n",
              "      <td>0.082072</td>\n",
              "      <td>0.0</td>\n",
              "      <td>0.000002</td>\n",
              "      <td>0.077191</td>\n",
              "      <td>0.041860</td>\n",
              "      <td>0.044618</td>\n",
              "      <td>0.342725</td>\n",
              "      <td>0.531326</td>\n",
              "      <td>0.480732</td>\n",
              "      <td>0.055588</td>\n",
              "      <td>0.696681</td>\n",
              "      <td>0.457241</td>\n",
              "      <td>0.440224</td>\n",
              "      <td>0.061659</td>\n",
              "      <td>0.043047</td>\n",
              "      <td>0.0</td>\n",
              "      <td>0</td>\n",
              "    </tr>\n",
              "    <tr>\n",
              "      <th>1</th>\n",
              "      <td>0.082072</td>\n",
              "      <td>0.0</td>\n",
              "      <td>0.000006</td>\n",
              "      <td>0.052182</td>\n",
              "      <td>0.055190</td>\n",
              "      <td>0.018690</td>\n",
              "      <td>0.493614</td>\n",
              "      <td>0.585784</td>\n",
              "      <td>0.491979</td>\n",
              "      <td>0.017684</td>\n",
              "      <td>0.567978</td>\n",
              "      <td>0.430552</td>\n",
              "      <td>0.474613</td>\n",
              "      <td>0.025133</td>\n",
              "      <td>0.034687</td>\n",
              "      <td>0.0</td>\n",
              "      <td>0</td>\n",
              "    </tr>\n",
              "    <tr>\n",
              "      <th>2</th>\n",
              "      <td>0.082072</td>\n",
              "      <td>0.0</td>\n",
              "      <td>0.000015</td>\n",
              "      <td>0.154156</td>\n",
              "      <td>0.035263</td>\n",
              "      <td>0.101251</td>\n",
              "      <td>0.540018</td>\n",
              "      <td>0.671386</td>\n",
              "      <td>0.470196</td>\n",
              "      <td>0.273968</td>\n",
              "      <td>0.533484</td>\n",
              "      <td>0.338381</td>\n",
              "      <td>0.325311</td>\n",
              "      <td>0.165718</td>\n",
              "      <td>0.059381</td>\n",
              "      <td>0.2</td>\n",
              "      <td>0</td>\n",
              "    </tr>\n",
              "    <tr>\n",
              "      <th>3</th>\n",
              "      <td>0.082072</td>\n",
              "      <td>0.0</td>\n",
              "      <td>0.000048</td>\n",
              "      <td>0.106599</td>\n",
              "      <td>0.123328</td>\n",
              "      <td>0.063472</td>\n",
              "      <td>0.306290</td>\n",
              "      <td>0.523352</td>\n",
              "      <td>0.483465</td>\n",
              "      <td>0.039306</td>\n",
              "      <td>0.713922</td>\n",
              "      <td>0.422854</td>\n",
              "      <td>0.493248</td>\n",
              "      <td>0.101707</td>\n",
              "      <td>0.108566</td>\n",
              "      <td>0.0</td>\n",
              "      <td>0</td>\n",
              "    </tr>\n",
              "    <tr>\n",
              "      <th>4</th>\n",
              "      <td>0.082072</td>\n",
              "      <td>0.0</td>\n",
              "      <td>0.000063</td>\n",
              "      <td>0.072599</td>\n",
              "      <td>0.024611</td>\n",
              "      <td>0.383563</td>\n",
              "      <td>0.508826</td>\n",
              "      <td>0.564737</td>\n",
              "      <td>0.292545</td>\n",
              "      <td>0.224039</td>\n",
              "      <td>0.550834</td>\n",
              "      <td>0.433906</td>\n",
              "      <td>0.361549</td>\n",
              "      <td>0.110721</td>\n",
              "      <td>0.018941</td>\n",
              "      <td>0.2</td>\n",
              "      <td>0</td>\n",
              "    </tr>\n",
              "  </tbody>\n",
              "</table>\n",
              "</div>\n",
              "    <div class=\"colab-df-buttons\">\n",
              "\n",
              "  <div class=\"colab-df-container\">\n",
              "    <button class=\"colab-df-convert\" onclick=\"convertToInteractive('df-d6471d0f-8eee-4695-88f7-b19ede01d26c')\"\n",
              "            title=\"Convert this dataframe to an interactive table.\"\n",
              "            style=\"display:none;\">\n",
              "\n",
              "  <svg xmlns=\"http://www.w3.org/2000/svg\" height=\"24px\" viewBox=\"0 -960 960 960\">\n",
              "    <path d=\"M120-120v-720h720v720H120Zm60-500h600v-160H180v160Zm220 220h160v-160H400v160Zm0 220h160v-160H400v160ZM180-400h160v-160H180v160Zm440 0h160v-160H620v160ZM180-180h160v-160H180v160Zm440 0h160v-160H620v160Z\"/>\n",
              "  </svg>\n",
              "    </button>\n",
              "\n",
              "  <style>\n",
              "    .colab-df-container {\n",
              "      display:flex;\n",
              "      gap: 12px;\n",
              "    }\n",
              "\n",
              "    .colab-df-convert {\n",
              "      background-color: #E8F0FE;\n",
              "      border: none;\n",
              "      border-radius: 50%;\n",
              "      cursor: pointer;\n",
              "      display: none;\n",
              "      fill: #1967D2;\n",
              "      height: 32px;\n",
              "      padding: 0 0 0 0;\n",
              "      width: 32px;\n",
              "    }\n",
              "\n",
              "    .colab-df-convert:hover {\n",
              "      background-color: #E2EBFA;\n",
              "      box-shadow: 0px 1px 2px rgba(60, 64, 67, 0.3), 0px 1px 3px 1px rgba(60, 64, 67, 0.15);\n",
              "      fill: #174EA6;\n",
              "    }\n",
              "\n",
              "    .colab-df-buttons div {\n",
              "      margin-bottom: 4px;\n",
              "    }\n",
              "\n",
              "    [theme=dark] .colab-df-convert {\n",
              "      background-color: #3B4455;\n",
              "      fill: #D2E3FC;\n",
              "    }\n",
              "\n",
              "    [theme=dark] .colab-df-convert:hover {\n",
              "      background-color: #434B5C;\n",
              "      box-shadow: 0px 1px 3px 1px rgba(0, 0, 0, 0.15);\n",
              "      filter: drop-shadow(0px 1px 2px rgba(0, 0, 0, 0.3));\n",
              "      fill: #FFFFFF;\n",
              "    }\n",
              "  </style>\n",
              "\n",
              "    <script>\n",
              "      const buttonEl =\n",
              "        document.querySelector('#df-d6471d0f-8eee-4695-88f7-b19ede01d26c button.colab-df-convert');\n",
              "      buttonEl.style.display =\n",
              "        google.colab.kernel.accessAllowed ? 'block' : 'none';\n",
              "\n",
              "      async function convertToInteractive(key) {\n",
              "        const element = document.querySelector('#df-d6471d0f-8eee-4695-88f7-b19ede01d26c');\n",
              "        const dataTable =\n",
              "          await google.colab.kernel.invokeFunction('convertToInteractive',\n",
              "                                                    [key], {});\n",
              "        if (!dataTable) return;\n",
              "\n",
              "        const docLinkHtml = 'Like what you see? Visit the ' +\n",
              "          '<a target=\"_blank\" href=https://colab.research.google.com/notebooks/data_table.ipynb>data table notebook</a>'\n",
              "          + ' to learn more about interactive tables.';\n",
              "        element.innerHTML = '';\n",
              "        dataTable['output_type'] = 'display_data';\n",
              "        await google.colab.output.renderOutput(dataTable, element);\n",
              "        const docLink = document.createElement('div');\n",
              "        docLink.innerHTML = docLinkHtml;\n",
              "        element.appendChild(docLink);\n",
              "      }\n",
              "    </script>\n",
              "  </div>\n",
              "\n",
              "\n",
              "<div id=\"df-dfc1a068-c087-4a9c-aabc-90e1483eb91f\">\n",
              "  <button class=\"colab-df-quickchart\" onclick=\"quickchart('df-dfc1a068-c087-4a9c-aabc-90e1483eb91f')\"\n",
              "            title=\"Suggest charts\"\n",
              "            style=\"display:none;\">\n",
              "\n",
              "<svg xmlns=\"http://www.w3.org/2000/svg\" height=\"24px\"viewBox=\"0 0 24 24\"\n",
              "     width=\"24px\">\n",
              "    <g>\n",
              "        <path d=\"M19 3H5c-1.1 0-2 .9-2 2v14c0 1.1.9 2 2 2h14c1.1 0 2-.9 2-2V5c0-1.1-.9-2-2-2zM9 17H7v-7h2v7zm4 0h-2V7h2v10zm4 0h-2v-4h2v4z\"/>\n",
              "    </g>\n",
              "</svg>\n",
              "  </button>\n",
              "\n",
              "<style>\n",
              "  .colab-df-quickchart {\n",
              "      --bg-color: #E8F0FE;\n",
              "      --fill-color: #1967D2;\n",
              "      --hover-bg-color: #E2EBFA;\n",
              "      --hover-fill-color: #174EA6;\n",
              "      --disabled-fill-color: #AAA;\n",
              "      --disabled-bg-color: #DDD;\n",
              "  }\n",
              "\n",
              "  [theme=dark] .colab-df-quickchart {\n",
              "      --bg-color: #3B4455;\n",
              "      --fill-color: #D2E3FC;\n",
              "      --hover-bg-color: #434B5C;\n",
              "      --hover-fill-color: #FFFFFF;\n",
              "      --disabled-bg-color: #3B4455;\n",
              "      --disabled-fill-color: #666;\n",
              "  }\n",
              "\n",
              "  .colab-df-quickchart {\n",
              "    background-color: var(--bg-color);\n",
              "    border: none;\n",
              "    border-radius: 50%;\n",
              "    cursor: pointer;\n",
              "    display: none;\n",
              "    fill: var(--fill-color);\n",
              "    height: 32px;\n",
              "    padding: 0;\n",
              "    width: 32px;\n",
              "  }\n",
              "\n",
              "  .colab-df-quickchart:hover {\n",
              "    background-color: var(--hover-bg-color);\n",
              "    box-shadow: 0 1px 2px rgba(60, 64, 67, 0.3), 0 1px 3px 1px rgba(60, 64, 67, 0.15);\n",
              "    fill: var(--button-hover-fill-color);\n",
              "  }\n",
              "\n",
              "  .colab-df-quickchart-complete:disabled,\n",
              "  .colab-df-quickchart-complete:disabled:hover {\n",
              "    background-color: var(--disabled-bg-color);\n",
              "    fill: var(--disabled-fill-color);\n",
              "    box-shadow: none;\n",
              "  }\n",
              "\n",
              "  .colab-df-spinner {\n",
              "    border: 2px solid var(--fill-color);\n",
              "    border-color: transparent;\n",
              "    border-bottom-color: var(--fill-color);\n",
              "    animation:\n",
              "      spin 1s steps(1) infinite;\n",
              "  }\n",
              "\n",
              "  @keyframes spin {\n",
              "    0% {\n",
              "      border-color: transparent;\n",
              "      border-bottom-color: var(--fill-color);\n",
              "      border-left-color: var(--fill-color);\n",
              "    }\n",
              "    20% {\n",
              "      border-color: transparent;\n",
              "      border-left-color: var(--fill-color);\n",
              "      border-top-color: var(--fill-color);\n",
              "    }\n",
              "    30% {\n",
              "      border-color: transparent;\n",
              "      border-left-color: var(--fill-color);\n",
              "      border-top-color: var(--fill-color);\n",
              "      border-right-color: var(--fill-color);\n",
              "    }\n",
              "    40% {\n",
              "      border-color: transparent;\n",
              "      border-right-color: var(--fill-color);\n",
              "      border-top-color: var(--fill-color);\n",
              "    }\n",
              "    60% {\n",
              "      border-color: transparent;\n",
              "      border-right-color: var(--fill-color);\n",
              "    }\n",
              "    80% {\n",
              "      border-color: transparent;\n",
              "      border-right-color: var(--fill-color);\n",
              "      border-bottom-color: var(--fill-color);\n",
              "    }\n",
              "    90% {\n",
              "      border-color: transparent;\n",
              "      border-bottom-color: var(--fill-color);\n",
              "    }\n",
              "  }\n",
              "</style>\n",
              "\n",
              "  <script>\n",
              "    async function quickchart(key) {\n",
              "      const quickchartButtonEl =\n",
              "        document.querySelector('#' + key + ' button');\n",
              "      quickchartButtonEl.disabled = true;  // To prevent multiple clicks.\n",
              "      quickchartButtonEl.classList.add('colab-df-spinner');\n",
              "      try {\n",
              "        const charts = await google.colab.kernel.invokeFunction(\n",
              "            'suggestCharts', [key], {});\n",
              "      } catch (error) {\n",
              "        console.error('Error during call to suggestCharts:', error);\n",
              "      }\n",
              "      quickchartButtonEl.classList.remove('colab-df-spinner');\n",
              "      quickchartButtonEl.classList.add('colab-df-quickchart-complete');\n",
              "    }\n",
              "    (() => {\n",
              "      let quickchartButtonEl =\n",
              "        document.querySelector('#df-dfc1a068-c087-4a9c-aabc-90e1483eb91f button');\n",
              "      quickchartButtonEl.style.display =\n",
              "        google.colab.kernel.accessAllowed ? 'block' : 'none';\n",
              "    })();\n",
              "  </script>\n",
              "</div>\n",
              "    </div>\n",
              "  </div>\n"
            ],
            "application/vnd.google.colaboratory.intrinsic+json": {
              "type": "dataframe",
              "variable_name": "df",
              "summary": "{\n  \"name\": \"df\",\n  \"rows\": 21671,\n  \"fields\": [\n    {\n      \"column\": \"Run\",\n      \"properties\": {\n        \"dtype\": \"number\",\n        \"std\": 0.47494780154320004,\n        \"min\": 0.0,\n        \"max\": 1.0,\n        \"num_unique_values\": 4,\n        \"samples\": [\n          0.0,\n          0.002390438247011952,\n          0.08207171314741035\n        ],\n        \"semantic_type\": \"\",\n        \"description\": \"\"\n      }\n    },\n    {\n      \"column\": \"Lumi\",\n      \"properties\": {\n        \"dtype\": \"number\",\n        \"std\": 0.35064319825324997,\n        \"min\": 0.0,\n        \"max\": 1.0,\n        \"num_unique_values\": 28,\n        \"samples\": [\n          0.05296610169491525,\n          0.998587570621469,\n          0.052259887005649715\n        ],\n        \"semantic_type\": \"\",\n        \"description\": \"\"\n      }\n    },\n    {\n      \"column\": \"Event\",\n      \"properties\": {\n        \"dtype\": \"number\",\n        \"std\": 0.3415750461376237,\n        \"min\": 0.0,\n        \"max\": 1.0,\n        \"num_unique_values\": 21671,\n        \"samples\": [\n          0.14366397306151077,\n          0.9912795062217793,\n          0.9986842565014573\n        ],\n        \"semantic_type\": \"\",\n        \"description\": \"\"\n      }\n    },\n    {\n      \"column\": \"MR\",\n      \"properties\": {\n        \"dtype\": \"number\",\n        \"std\": 0.08061604645799919,\n        \"min\": 0.0,\n        \"max\": 1.0,\n        \"num_unique_values\": 21075,\n        \"samples\": [\n          0.12676535153358603,\n          0.1172787847143802,\n          0.0456710966016134\n        ],\n        \"semantic_type\": \"\",\n        \"description\": \"\"\n      }\n    },\n    {\n      \"column\": \"Rsq\",\n      \"properties\": {\n        \"dtype\": \"number\",\n        \"std\": 0.030469033171438214,\n        \"min\": 0.0,\n        \"max\": 1.0,\n        \"num_unique_values\": 21434,\n        \"samples\": [\n          0.018209360844243443,\n          0.07299508760312509,\n          0.027949880732130443\n        ],\n        \"semantic_type\": \"\",\n        \"description\": \"\"\n      }\n    },\n    {\n      \"column\": \"E1\",\n      \"properties\": {\n        \"dtype\": \"number\",\n        \"std\": 0.10899557004765521,\n        \"min\": 0.0,\n        \"max\": 1.0,\n        \"num_unique_values\": 21094,\n        \"samples\": [\n          0.08534456619471716,\n          0.502443898092824,\n          0.05407257028528774\n        ],\n        \"semantic_type\": \"\",\n        \"description\": \"\"\n      }\n    },\n    {\n      \"column\": \"Px1\",\n      \"properties\": {\n        \"dtype\": \"number\",\n        \"std\": 0.07239304402928741,\n        \"min\": 0.0,\n        \"max\": 1.0,\n        \"num_unique_values\": 21433,\n        \"samples\": [\n          0.5119325936410049,\n          0.35655384357781933,\n          0.47965274794015067\n        ],\n        \"semantic_type\": \"\",\n        \"description\": \"\"\n      }\n    },\n    {\n      \"column\": \"Py1\",\n      \"properties\": {\n        \"dtype\": \"number\",\n        \"std\": 0.08110288671823111,\n        \"min\": 0.0,\n        \"max\": 1.0,\n        \"num_unique_values\": 21462,\n        \"samples\": [\n          0.5482193669158132,\n          0.5866629299162629,\n          0.531226270964466\n        ],\n        \"semantic_type\": \"\",\n        \"description\": \"\"\n      }\n    },\n    {\n      \"column\": \"Pz1\",\n      \"properties\": {\n        \"dtype\": \"number\",\n        \"std\": 0.08363592173506569,\n        \"min\": 0.0,\n        \"max\": 1.0,\n        \"num_unique_values\": 21561,\n        \"samples\": [\n          0.6489199843298565,\n          0.4357568189608736,\n          0.5106742568924146\n        ],\n        \"semantic_type\": \"\",\n        \"description\": \"\"\n      }\n    },\n    {\n      \"column\": \"E2\",\n      \"properties\": {\n        \"dtype\": \"number\",\n        \"std\": 0.11494038552992812,\n        \"min\": 0.0,\n        \"max\": 1.0,\n        \"num_unique_values\": 21174,\n        \"samples\": [\n          0.2479889929081668,\n          0.7417659156545615,\n          0.47518291395924106\n        ],\n        \"semantic_type\": \"\",\n        \"description\": \"\"\n      }\n    },\n    {\n      \"column\": \"Px2\",\n      \"properties\": {\n        \"dtype\": \"number\",\n        \"std\": 0.0693748799040197,\n        \"min\": 0.0,\n        \"max\": 1.0,\n        \"num_unique_values\": 21520,\n        \"samples\": [\n          0.6846458146001855,\n          0.5011561028298285,\n          0.6260067954964457\n        ],\n        \"semantic_type\": \"\",\n        \"description\": \"\"\n      }\n    },\n    {\n      \"column\": \"Py2\",\n      \"properties\": {\n        \"dtype\": \"number\",\n        \"std\": 0.06911262296746745,\n        \"min\": 0.0,\n        \"max\": 1.0,\n        \"num_unique_values\": 21531,\n        \"samples\": [\n          0.3534444814633946,\n          0.42495513151108816,\n          0.43670918774845163\n        ],\n        \"semantic_type\": \"\",\n        \"description\": \"\"\n      }\n    },\n    {\n      \"column\": \"Pz2\",\n      \"properties\": {\n        \"dtype\": \"number\",\n        \"std\": 0.09247895562733348,\n        \"min\": 0.0,\n        \"max\": 1.0,\n        \"num_unique_values\": 21559,\n        \"samples\": [\n          0.49216977144713725,\n          0.42971791016023714,\n          0.5134739517592158\n        ],\n        \"semantic_type\": \"\",\n        \"description\": \"\"\n      }\n    },\n    {\n      \"column\": \"HT\",\n      \"properties\": {\n        \"dtype\": \"number\",\n        \"std\": 0.05864908347712315,\n        \"min\": 0.0,\n        \"max\": 1.0,\n        \"num_unique_values\": 20513,\n        \"samples\": [\n          0.05972756787697923,\n          0.10450088395846441,\n          0.08198006696022635\n        ],\n        \"semantic_type\": \"\",\n        \"description\": \"\"\n      }\n    },\n    {\n      \"column\": \"MET\",\n      \"properties\": {\n        \"dtype\": \"number\",\n        \"std\": 0.025460219831558505,\n        \"min\": 0.0,\n        \"max\": 1.0,\n        \"num_unique_values\": 21149,\n        \"samples\": [\n          0.0719300758523552,\n          0.06689513329189,\n          0.033321758087060324\n        ],\n        \"semantic_type\": \"\",\n        \"description\": \"\"\n      }\n    },\n    {\n      \"column\": \"nJets\",\n      \"properties\": {\n        \"dtype\": \"number\",\n        \"std\": 0.13096366120215894,\n        \"min\": 0.0,\n        \"max\": 1.0,\n        \"num_unique_values\": 6,\n        \"samples\": [\n          0.0,\n          0.2,\n          1.0\n        ],\n        \"semantic_type\": \"\",\n        \"description\": \"\"\n      }\n    },\n    {\n      \"column\": \"nBJets\",\n      \"properties\": {\n        \"dtype\": \"number\",\n        \"std\": 0,\n        \"min\": 0,\n        \"max\": 1,\n        \"num_unique_values\": 2,\n        \"samples\": [\n          1,\n          0\n        ],\n        \"semantic_type\": \"\",\n        \"description\": \"\"\n      }\n    }\n  ]\n}"
            }
          },
          "metadata": {},
          "execution_count": 149
        }
      ]
    },
    {
      "cell_type": "markdown",
      "source": [
        "Потрібно на основі інформації про розпад спрогнозувати наявність високоенергетичного випромінювання `nBJets`"
      ],
      "metadata": {
        "id": "KAmkR_CFejgQ"
      }
    },
    {
      "cell_type": "markdown",
      "source": [
        "# Завдання 1\n",
        "Створіть клас Dataset для тренувальних та тестових даних"
      ],
      "metadata": {
        "id": "dBt0E5BJe6OK"
      }
    },
    {
      "cell_type": "code",
      "source": [
        "import torch\n",
        "import pandas as pd\n",
        "\n",
        "device = \"cuda\" if torch.cuda.is_available() else \"cpu\"\n",
        "torch.set_default_device(device)"
      ],
      "metadata": {
        "id": "zQar7xD0K21Y"
      },
      "execution_count": 150,
      "outputs": []
    },
    {
      "cell_type": "markdown",
      "source": [
        "# Завдання 2\n",
        "Створіть DataLoader"
      ],
      "metadata": {
        "id": "zQlB_6WzfB8n"
      }
    },
    {
      "cell_type": "code",
      "source": [
        "from torch.utils.data import Dataset\n",
        "from sklearn.model_selection import train_test_split\n",
        "\n",
        "class MyDataset(Dataset):\n",
        "    def __init__(self, X, y):\n",
        "      self.X = torch.FloatTensor(X.values)\n",
        "      self.y = torch.FloatTensor(y.values)\n",
        "      self.y = self.y.reshape(-1, 1)\n",
        "\n",
        "    def __len__(self):\n",
        "      return len(self.X)\n",
        "\n",
        "    def __getitem__(self, idx):\n",
        "      return self.X[idx], self.y[idx]\n",
        "\n",
        "# Create dataset object\n",
        "X = df.drop(columns=['nBJets'])\n",
        "y = df['nBJets']\n",
        "\n",
        "dataset = MyDataset(X, y)"
      ],
      "metadata": {
        "id": "-6-po4H4fZQy"
      },
      "execution_count": 151,
      "outputs": []
    },
    {
      "cell_type": "code",
      "source": [
        "X_train, X_test, y_train, y_test = train_test_split(X, y,\n",
        "                                                    train_size=0.8,\n",
        "                                                    random_state=42,\n",
        "                                                    stratify=y\n",
        "                                                    )\n",
        "\n",
        "dataset_train = MyDataset(X_train, y_train)\n",
        "dataset_test = MyDataset(X_test, y_test)"
      ],
      "metadata": {
        "id": "fkDDIjtuEUUO"
      },
      "execution_count": 152,
      "outputs": []
    },
    {
      "cell_type": "code",
      "source": [
        "y_train.value_counts()"
      ],
      "metadata": {
        "id": "tBbyc0moEXR1",
        "outputId": "edb549ad-f24a-4d26-d1f2-de8b7048abc8",
        "colab": {
          "base_uri": "https://localhost:8080/"
        }
      },
      "execution_count": 153,
      "outputs": [
        {
          "output_type": "execute_result",
          "data": {
            "text/plain": [
              "nBJets\n",
              "0    16491\n",
              "1      845\n",
              "Name: count, dtype: int64"
            ]
          },
          "metadata": {},
          "execution_count": 153
        }
      ]
    },
    {
      "cell_type": "markdown",
      "source": [
        "# Завдання 3\n",
        "Створіть нейромережу"
      ],
      "metadata": {
        "id": "2W93LiDxfZrx"
      }
    },
    {
      "cell_type": "code",
      "source": [
        "from torch.utils.data import DataLoader\n",
        "\n",
        "batch_size = 512\n",
        "train_dl = DataLoader(dataset_train,\n",
        "                      batch_size=batch_size,\n",
        "                      shuffle=True\n",
        "                      )\n",
        "\n",
        "test_dl = DataLoader(dataset_test,\n",
        "                     batch_size=batch_size,\n",
        "                     shuffle=True\n",
        "                     )"
      ],
      "metadata": {
        "id": "p9DHog7Xf7xE"
      },
      "execution_count": 154,
      "outputs": []
    },
    {
      "cell_type": "code",
      "source": [
        "import numpy as np\n",
        "from torch import nn\n",
        "import torch.nn.functional as F\n",
        "\n",
        "\n",
        "class BinaryClassifier(nn.Module):\n",
        "    def __init__(self, input_dim, hidden_dim, output_dim):\n",
        "        super().__init__()\n",
        "\n",
        "        self.linear = nn.Linear(input_dim, hidden_dim)\n",
        "        self.bn = nn.BatchNorm1d(hidden_dim)\n",
        "        self.linear1 = nn.Linear(hidden_dim, hidden_dim // 2)\n",
        "        self.bn1 = nn.BatchNorm1d(hidden_dim // 2)\n",
        "        self.linear2 = nn.Linear(hidden_dim // 2, hidden_dim // 4)\n",
        "        self.bn2 = nn.BatchNorm1d(hidden_dim // 4)\n",
        "        self.linear3 = nn.Linear(hidden_dim // 4, hidden_dim // 8)\n",
        "        self.bn3 = nn.BatchNorm1d(hidden_dim // 8)\n",
        "        self.linear4 = nn.Linear(hidden_dim // 8, hidden_dim // 16)\n",
        "        self.bn4 = nn.BatchNorm1d(hidden_dim // 16)\n",
        "        self.linear5 = nn.Linear(hidden_dim // 16, hidden_dim // 32)\n",
        "        self.bn5 = nn.BatchNorm1d(hidden_dim // 32)\n",
        "\n",
        "        self.linear6 = nn.Linear(hidden_dim // 32, output_dim)\n",
        "\n",
        "    def forward(self, x):\n",
        "        out = self.linear(x)\n",
        "        out = self.bn(out)\n",
        "        out = F.relu(out)\n",
        "        out = F.dropout(out, 0.2)\n",
        "\n",
        "        out = self.linear1(out)\n",
        "        out = self.bn1(out)\n",
        "        out = F.relu(out)\n",
        "        #out = F.dropout(out, 0.2)\n",
        "\n",
        "        out = self.linear2(out)\n",
        "        out = self.bn2(out)\n",
        "        out = F.relu(out)\n",
        "        #out = F.dropout(out, 0.2)\n",
        "\n",
        "        out = self.linear3(out)\n",
        "        out = self.bn3(out)\n",
        "        out = F.relu(out)\n",
        "        #out = F.dropout(out, 0.2)\n",
        "\n",
        "        out = self.linear4(out)\n",
        "        out = self.bn4(out)\n",
        "        out = F.relu(out)\n",
        "        #out = F.dropout(out, 0.2)\n",
        "\n",
        "        out = self.linear5(out)\n",
        "        out = self.bn5(out)\n",
        "        out = F.relu(out)\n",
        "        #out = F.dropout(out, 0.2)\n",
        "\n",
        "        out = self.linear6(out)\n",
        "        out = F.sigmoid(out)\n",
        "\n",
        "        return out\n",
        "\n",
        "    def predict(self, X, device='cpu'):\n",
        "        X = torch.FloatTensor(np.array(X)).to(device)\n",
        "\n",
        "        with torch.no_grad():\n",
        "          y_pred = self.forward(X)\n",
        "\n",
        "        return y_pred.numpy()\n",
        "\n",
        "\n",
        "model = BinaryClassifier(16, 100, 1)\n",
        "model"
      ],
      "metadata": {
        "id": "2JPMNB3SEo24",
        "outputId": "668bb7cf-5376-488a-9b52-de7c5ba2e705",
        "colab": {
          "base_uri": "https://localhost:8080/"
        }
      },
      "execution_count": 155,
      "outputs": [
        {
          "output_type": "execute_result",
          "data": {
            "text/plain": [
              "BinaryClassifier(\n",
              "  (linear): Linear(in_features=16, out_features=100, bias=True)\n",
              "  (bn): BatchNorm1d(100, eps=1e-05, momentum=0.1, affine=True, track_running_stats=True)\n",
              "  (linear1): Linear(in_features=100, out_features=50, bias=True)\n",
              "  (bn1): BatchNorm1d(50, eps=1e-05, momentum=0.1, affine=True, track_running_stats=True)\n",
              "  (linear2): Linear(in_features=50, out_features=25, bias=True)\n",
              "  (bn2): BatchNorm1d(25, eps=1e-05, momentum=0.1, affine=True, track_running_stats=True)\n",
              "  (linear3): Linear(in_features=25, out_features=12, bias=True)\n",
              "  (bn3): BatchNorm1d(12, eps=1e-05, momentum=0.1, affine=True, track_running_stats=True)\n",
              "  (linear4): Linear(in_features=12, out_features=6, bias=True)\n",
              "  (bn4): BatchNorm1d(6, eps=1e-05, momentum=0.1, affine=True, track_running_stats=True)\n",
              "  (linear5): Linear(in_features=6, out_features=3, bias=True)\n",
              "  (bn5): BatchNorm1d(3, eps=1e-05, momentum=0.1, affine=True, track_running_stats=True)\n",
              "  (linear6): Linear(in_features=3, out_features=1, bias=True)\n",
              ")"
            ]
          },
          "metadata": {},
          "execution_count": 155
        }
      ]
    },
    {
      "cell_type": "code",
      "source": [
        "from torchsummary import summary\n",
        "\n",
        "summary(model, input_size=(16,))"
      ],
      "metadata": {
        "id": "vCyTVXVgHOTF",
        "outputId": "85a98d94-c56d-4bbe-f50e-19a9d78bcad3",
        "colab": {
          "base_uri": "https://localhost:8080/"
        }
      },
      "execution_count": 156,
      "outputs": [
        {
          "output_type": "stream",
          "name": "stdout",
          "text": [
            "----------------------------------------------------------------\n",
            "        Layer (type)               Output Shape         Param #\n",
            "================================================================\n",
            "            Linear-1                  [-1, 100]           1,700\n",
            "       BatchNorm1d-2                  [-1, 100]             200\n",
            "            Linear-3                   [-1, 50]           5,050\n",
            "       BatchNorm1d-4                   [-1, 50]             100\n",
            "            Linear-5                   [-1, 25]           1,275\n",
            "       BatchNorm1d-6                   [-1, 25]              50\n",
            "            Linear-7                   [-1, 12]             312\n",
            "       BatchNorm1d-8                   [-1, 12]              24\n",
            "            Linear-9                    [-1, 6]              78\n",
            "      BatchNorm1d-10                    [-1, 6]              12\n",
            "           Linear-11                    [-1, 3]              21\n",
            "      BatchNorm1d-12                    [-1, 3]               6\n",
            "           Linear-13                    [-1, 1]               4\n",
            "================================================================\n",
            "Total params: 8,832\n",
            "Trainable params: 8,832\n",
            "Non-trainable params: 0\n",
            "----------------------------------------------------------------\n",
            "Input size (MB): 0.00\n",
            "Forward/backward pass size (MB): 0.00\n",
            "Params size (MB): 0.03\n",
            "Estimated Total Size (MB): 0.04\n",
            "----------------------------------------------------------------\n"
          ]
        }
      ]
    },
    {
      "cell_type": "markdown",
      "source": [
        "# Завдання 4\n",
        "Визначте функцію втрат та оптимізатор, можливо графік швидкості навчання"
      ],
      "metadata": {
        "id": "VmNUVkkUf8gB"
      }
    },
    {
      "cell_type": "code",
      "source": [
        "class WeightedBCE(nn.Module):\n",
        "    def __init__(self, pos_weight, neg_weight=1):\n",
        "        super(WeightedBCE, self).__init__()\n",
        "        self.neg_weight = neg_weight\n",
        "        self.pos_weight = pos_weight\n",
        "\n",
        "    def forward(self, input, target):\n",
        "        assert input.shape == target.shape, \"The loss function received invalid input shapes\"\n",
        "        y_hat = input\n",
        "        loss = -1.0 * (self.pos_weight * target * torch.log(y_hat + 1e-6) + self.neg_weight * (1 - target) * torch.log(1 - y_hat + 1e-6))\n",
        "        # Account for 0 times inf which leads to nan\n",
        "        loss[torch.isnan(loss)] = 0\n",
        "        # We average across each of the extra attribute dimensions to generalize it\n",
        "        loss = loss.mean(dim=1)\n",
        "        # We use mean reduction for our task\n",
        "        return loss.mean()\n"
      ],
      "metadata": {
        "id": "c0eTgpXqL4AC"
      },
      "execution_count": 157,
      "outputs": []
    },
    {
      "cell_type": "code",
      "source": [
        "# Функція втрат середньоквадратичної помилки (MSE) для регресії\n",
        "loss_fn = WeightedBCE(20)\n",
        "\n",
        "# Оптимізатор (SGD) для оновлення ваг моделі\n",
        "optimizer = torch.optim.Adam(model.parameters(), lr=1e-2, weight_decay=1e-6)"
      ],
      "metadata": {
        "id": "e1sw9oRBgDXR"
      },
      "execution_count": 158,
      "outputs": []
    },
    {
      "cell_type": "code",
      "source": [
        "from torch.optim.lr_scheduler import StepLR\n",
        "\n",
        "#scheduler = StepLR(optimizer, step_size=5, gamma=0.1)"
      ],
      "metadata": {
        "id": "my6764L4Iw-B"
      },
      "execution_count": 159,
      "outputs": []
    },
    {
      "cell_type": "markdown",
      "source": [
        "# Завдання 5\n",
        "Натренуйте нейромережу."
      ],
      "metadata": {
        "id": "qTOFCl_egEFZ"
      }
    },
    {
      "cell_type": "code",
      "source": [
        "# @title Функція для тренування\n",
        "import time\n",
        "\n",
        "def train(model, optimizer, loss_fn, train_dl, val_dl,\n",
        "          metrics=None, metrics_name=None, epochs=20, device='cpu', task='regression'):\n",
        "    '''\n",
        "    Runs training loop for classification problems. Returns Keras-style\n",
        "    per-epoch history of loss and accuracy over training and validation data.\n",
        "\n",
        "    Parameters\n",
        "    ----------\n",
        "    model : nn.Module\n",
        "        Neural network model\n",
        "    optimizer : torch.optim.Optimizer\n",
        "        Search space optimizer (e.g. Adam)\n",
        "    loss_fn :\n",
        "        Loss function (e.g. nn.CrossEntropyLoss())\n",
        "    train_dl :\n",
        "        Iterable dataloader for training data.\n",
        "    val_dl :\n",
        "        Iterable dataloader for validation data.\n",
        "    metrics: list\n",
        "        List of sklearn metrics functions to be calculated\n",
        "    metrics_name: list\n",
        "        List of matrics names\n",
        "    epochs : int\n",
        "        Number of epochs to run\n",
        "    device : string\n",
        "        Specifies 'cuda' or 'cpu'\n",
        "    task : string\n",
        "        type of problem. It can be regression, binary or multiclass\n",
        "\n",
        "    Returns\n",
        "    -------\n",
        "    Dictionary\n",
        "        Similar to Keras' fit(), the output dictionary contains per-epoch\n",
        "        history of training loss, training accuracy, validation loss, and\n",
        "        validation accuracy.\n",
        "    '''\n",
        "\n",
        "    print('train() called: model=%s, opt=%s(lr=%f), epochs=%d, device=%s\\n' % \\\n",
        "          (type(model).__name__, type(optimizer).__name__,\n",
        "           optimizer.param_groups[0]['lr'], epochs, device))\n",
        "\n",
        "    metrics = metrics if metrics else []\n",
        "    metrics_name = metrics_name if metrics_name else [metric.__name__ for metric in metrics]\n",
        "\n",
        "    history = {} # Collects per-epoch loss and metrics like Keras' fit().\n",
        "    history['lr'] = []\n",
        "    history['loss'] = []\n",
        "    history['val_loss'] = []\n",
        "    for name in metrics_name:\n",
        "        history[name] = []\n",
        "        history[f'val_{name}'] = []\n",
        "\n",
        "    start_time_train = time.time()\n",
        "\n",
        "    for epoch in range(epochs):\n",
        "\n",
        "        # --- TRAIN AND EVALUATE ON TRAINING SET -----------------------------\n",
        "        start_time_epoch = time.time()\n",
        "\n",
        "        model.train()\n",
        "        history_train = {name: 0 for name in ['loss']+metrics_name}\n",
        "\n",
        "        for batch in train_dl:\n",
        "            x    = batch[0].to(device)\n",
        "            y    = batch[1].to(device)\n",
        "            y_pred = model(x)\n",
        "            loss = loss_fn(y_pred, y)\n",
        "\n",
        "            optimizer.zero_grad()\n",
        "            loss.backward()\n",
        "            optimizer.step()\n",
        "\n",
        "            y_pred = y_pred.detach().cpu().numpy()\n",
        "            y = y.detach().cpu().numpy()\n",
        "\n",
        "\n",
        "            history_train['loss'] += loss.item() * x.size(0)\n",
        "            for name, func in zip(metrics_name, metrics):\n",
        "              try:\n",
        "                  history_train[name] += func(y, y_pred) * x.size(0)\n",
        "              except:\n",
        "                  if task == 'binary': y_pred_ = y_pred.round()\n",
        "                  elif task == 'multiclass': y_pred_ = y_pred.argmax(axis=-1)\n",
        "                  history_train[name] += func(y, y_pred_) * x.size(0)\n",
        "\n",
        "        for name in history_train:\n",
        "            history_train[name] /= len(train_dl.dataset)\n",
        "\n",
        "        #scheduler.step()\n",
        "        #history['lr'].append(scheduler.get_last_lr())\n",
        "\n",
        "\n",
        "        # --- EVALUATE ON VALIDATION SET -------------------------------------\n",
        "        model.eval()\n",
        "        history_val = {'val_' + name: 0 for name in metrics_name+['loss']}\n",
        "\n",
        "        with torch.no_grad():\n",
        "            for batch in val_dl:\n",
        "                x    = batch[0].to(device)\n",
        "                y    = batch[1].to(device)\n",
        "                y_pred = model(x)\n",
        "                loss = loss_fn(y_pred, y)\n",
        "\n",
        "                y_pred = y_pred.cpu().numpy()\n",
        "                y = y.cpu().numpy()\n",
        "\n",
        "                history_val['val_loss'] += loss.item() * x.size(0)\n",
        "                for name, func in zip(metrics_name, metrics):\n",
        "                    try:\n",
        "                        history_val['val_'+name] += func(y, y_pred) * x.size(0)\n",
        "                    except:\n",
        "                        if task == 'binary': y_pred_ = y_pred.round()\n",
        "                        elif task == 'multiclass': y_pred_ = y_pred.argmax(axis=-1)\n",
        "\n",
        "                        history_val['val_'+name] += func(y, y_pred_) * x.size(0)\n",
        "\n",
        "        for name in history_val:\n",
        "            history_val[name] /= len(val_dl.dataset)\n",
        "\n",
        "        # PRINTING RESULTS\n",
        "\n",
        "        end_time_epoch = time.time()\n",
        "\n",
        "        for name in history_train:\n",
        "            history[name].append(history_train[name])\n",
        "            history['val_'+name].append(history_val['val_'+name])\n",
        "\n",
        "        total_time_epoch = end_time_epoch - start_time_epoch\n",
        "\n",
        "        print(f'Epoch {epoch+1:4d} {total_time_epoch:4.0f}sec', end='\\t')\n",
        "        for name in history_train:\n",
        "            print(f'{name}: {history[name][-1]:10.3g}', end='\\t')\n",
        "            print(f\"val_{name}: {history['val_'+name][-1]:10.3g}\", end='\\t')\n",
        "        print()\n",
        "\n",
        "    # END OF TRAINING LOOP\n",
        "\n",
        "    end_time_train       = time.time()\n",
        "    total_time_train     = end_time_train - start_time_train\n",
        "    print()\n",
        "    print('Time total:     %5.2f sec' % (total_time_train))\n",
        "\n",
        "    return history\n",
        ""
      ],
      "metadata": {
        "id": "Nxo4p3IUgOx5"
      },
      "execution_count": 160,
      "outputs": []
    },
    {
      "cell_type": "code",
      "source": [
        "from sklearn.metrics import accuracy_score, roc_auc_score\n",
        "\n",
        "history = train(model, optimizer, loss_fn, train_dl, test_dl,\n",
        "                epochs=20,\n",
        "                metrics=[accuracy_score, roc_auc_score],\n",
        "                device=device,\n",
        "                task='binary')"
      ],
      "metadata": {
        "id": "IWQ3uBTwJDMp",
        "outputId": "92504380-916e-4a3b-93cb-abd594081380",
        "colab": {
          "base_uri": "https://localhost:8080/"
        }
      },
      "execution_count": 161,
      "outputs": [
        {
          "output_type": "stream",
          "name": "stdout",
          "text": [
            "train() called: model=BinaryClassifier, opt=Adam(lr=0.010000), epochs=20, device=cpu\n",
            "\n",
            "Epoch    1    1sec\tloss:       1.35\tval_loss:       1.34\taccuracy_score:      0.509\tval_accuracy_score:      0.522\troc_auc_score:      0.519\tval_roc_auc_score:      0.496\t\n",
            "Epoch    2    1sec\tloss:       1.33\tval_loss:       1.33\taccuracy_score:       0.54\tval_accuracy_score:      0.546\troc_auc_score:       0.54\tval_roc_auc_score:      0.536\t\n",
            "Epoch    3    1sec\tloss:       1.33\tval_loss:       1.33\taccuracy_score:      0.529\tval_accuracy_score:      0.654\troc_auc_score:      0.552\tval_roc_auc_score:      0.547\t\n",
            "Epoch    4    1sec\tloss:       1.33\tval_loss:       1.33\taccuracy_score:      0.638\tval_accuracy_score:      0.529\troc_auc_score:      0.558\tval_roc_auc_score:      0.531\t\n",
            "Epoch    5    1sec\tloss:       1.32\tval_loss:       1.33\taccuracy_score:      0.565\tval_accuracy_score:      0.361\troc_auc_score:      0.568\tval_roc_auc_score:       0.58\t\n",
            "Epoch    6    1sec\tloss:       1.32\tval_loss:       1.32\taccuracy_score:      0.456\tval_accuracy_score:      0.397\troc_auc_score:      0.586\tval_roc_auc_score:      0.567\t\n",
            "Epoch    7    1sec\tloss:       1.32\tval_loss:       1.32\taccuracy_score:      0.585\tval_accuracy_score:      0.454\troc_auc_score:      0.574\tval_roc_auc_score:      0.561\t\n",
            "Epoch    8    1sec\tloss:       1.31\tval_loss:       1.32\taccuracy_score:      0.519\tval_accuracy_score:        0.6\troc_auc_score:      0.589\tval_roc_auc_score:      0.564\t\n",
            "Epoch    9    1sec\tloss:       1.31\tval_loss:       1.31\taccuracy_score:      0.534\tval_accuracy_score:      0.543\troc_auc_score:      0.586\tval_roc_auc_score:       0.58\t\n",
            "Epoch   10    1sec\tloss:       1.31\tval_loss:       1.32\taccuracy_score:      0.575\tval_accuracy_score:      0.614\troc_auc_score:      0.587\tval_roc_auc_score:      0.566\t\n",
            "Epoch   11    1sec\tloss:       1.31\tval_loss:       1.32\taccuracy_score:       0.56\tval_accuracy_score:      0.452\troc_auc_score:      0.589\tval_roc_auc_score:      0.557\t\n",
            "Epoch   12    1sec\tloss:       1.31\tval_loss:       1.32\taccuracy_score:      0.465\tval_accuracy_score:      0.385\troc_auc_score:      0.589\tval_roc_auc_score:      0.576\t\n",
            "Epoch   13    1sec\tloss:       1.31\tval_loss:       1.32\taccuracy_score:      0.491\tval_accuracy_score:      0.545\troc_auc_score:      0.597\tval_roc_auc_score:      0.567\t\n",
            "Epoch   14    1sec\tloss:       1.31\tval_loss:       1.33\taccuracy_score:      0.431\tval_accuracy_score:      0.394\troc_auc_score:        0.6\tval_roc_auc_score:       0.58\t\n",
            "Epoch   15    1sec\tloss:       1.31\tval_loss:       1.32\taccuracy_score:      0.462\tval_accuracy_score:      0.351\troc_auc_score:      0.601\tval_roc_auc_score:      0.581\t\n",
            "Epoch   16    1sec\tloss:       1.31\tval_loss:       1.31\taccuracy_score:      0.438\tval_accuracy_score:      0.431\troc_auc_score:      0.598\tval_roc_auc_score:      0.589\t\n",
            "Epoch   17    1sec\tloss:       1.31\tval_loss:       1.32\taccuracy_score:      0.532\tval_accuracy_score:      0.565\troc_auc_score:      0.603\tval_roc_auc_score:      0.581\t\n",
            "Epoch   18    1sec\tloss:        1.3\tval_loss:       1.32\taccuracy_score:      0.494\tval_accuracy_score:      0.507\troc_auc_score:      0.608\tval_roc_auc_score:      0.562\t\n",
            "Epoch   19    1sec\tloss:       1.31\tval_loss:       1.31\taccuracy_score:      0.513\tval_accuracy_score:      0.517\troc_auc_score:      0.598\tval_roc_auc_score:      0.591\t\n",
            "Epoch   20    1sec\tloss:        1.3\tval_loss:       1.33\taccuracy_score:      0.508\tval_accuracy_score:      0.536\troc_auc_score:      0.611\tval_roc_auc_score:      0.567\t\n",
            "\n",
            "Time total:     16.87 sec\n"
          ]
        }
      ]
    },
    {
      "cell_type": "code",
      "source": [
        "import matplotlib.pyplot as plt\n",
        "\n",
        "def plot_metric(history, name):\n",
        "  plt.title(f\"Model results with {name}\")\n",
        "  plt.plot(history[name], label='train')\n",
        "  plt.plot(history['val_'+name], label='val')\n",
        "  plt.xlabel('Epoch')\n",
        "  plt.ylabel(name)\n",
        "  plt.legend()\n",
        "\n",
        "\n",
        "plot_metric(history, 'loss')"
      ],
      "metadata": {
        "id": "KkEEICqXJIzN",
        "outputId": "0b63b953-3523-433d-c98d-3806d8c95e67",
        "colab": {
          "base_uri": "https://localhost:8080/",
          "height": 472
        }
      },
      "execution_count": 162,
      "outputs": [
        {
          "output_type": "display_data",
          "data": {
            "text/plain": [
              "<Figure size 640x480 with 1 Axes>"
            ],
            "image/png": "[encoded data removed]"
          },
          "metadata": {}
        }
      ]
    },
    {
      "cell_type": "code",
      "source": [
        "plot_metric(history, 'accuracy_score')"
      ],
      "metadata": {
        "id": "xqUlndimJMWC",
        "outputId": "27043291-7d8d-462b-d1ec-5c5d616d265b",
        "colab": {
          "base_uri": "https://localhost:8080/",
          "height": 472
        }
      },
      "execution_count": 163,
      "outputs": [
        {
          "output_type": "display_data",
          "data": {
            "text/plain": [
              "<Figure size 640x480 with 1 Axes>"
            ],
            "image/png": "[encoded data removed]"
          },
          "metadata": {}
        }
      ]
    },
    {
      "cell_type": "code",
      "source": [
        "plt.plot(history['lr'])"
      ],
      "metadata": {
        "id": "VBUcNXTIJP6H",
        "outputId": "8ad1808d-6390-47c7-e482-9a4a35754c78",
        "colab": {
          "base_uri": "https://localhost:8080/",
          "height": 448
        }
      },
      "execution_count": 164,
      "outputs": [
        {
          "output_type": "execute_result",
          "data": {
            "text/plain": [
              "[<matplotlib.lines.Line2D at 0x7c65792d8ac0>]"
            ]
          },
          "metadata": {},
          "execution_count": 164
        },
        {
          "output_type": "display_data",
          "data": {
            "text/plain": [
              "<Figure size 640x480 with 1 Axes>"
            ],
            "image/png": "[encoded data removed]"
          },
          "metadata": {}
        }
      ]
    },
    {
      "cell_type": "code",
      "source": [
        "from sklearn.metrics import ConfusionMatrixDisplay, RocCurveDisplay\n",
        "\n",
        "model = model.to('cpu')  # відключаємо від gpu\n",
        "y_pred = model.predict(X_test)\n",
        "\n",
        "ConfusionMatrixDisplay.from_predictions(y_test, y_pred.round(),\n",
        "                                        display_labels=['satisfied', 'neutral or dissatisfied'])\n",
        "plt.plot()\n",
        "\n",
        "RocCurveDisplay.from_predictions(y_test, y_pred, pos_label=1)"
      ],
      "metadata": {
        "id": "LUiJnxpiJS7O",
        "outputId": "7aa24799-6aa3-468c-ba5f-b55592cf20de",
        "colab": {
          "base_uri": "https://localhost:8080/",
          "height": 899
        }
      },
      "execution_count": 165,
      "outputs": [
        {
          "output_type": "execute_result",
          "data": {
            "text/plain": [
              "<sklearn.metrics._plot.roc_curve.RocCurveDisplay at 0x7c657a3b9990>"
            ]
          },
          "metadata": {},
          "execution_count": 165
        },
        {
          "output_type": "display_data",
          "data": {
            "text/plain": [
              "<Figure size 640x480 with 2 Axes>"
            ],
            "image/png": "[encoded data removed]"
          },
          "metadata": {}
        },
        {
          "output_type": "display_data",
          "data": {
            "text/plain": [
              "<Figure size 640x480 with 1 Axes>"
            ],
            "image/png": "[encoded data removed]"
          },
          "metadata": {}
        }
      ]
    },
    {
      "cell_type": "markdown",
      "source": [
        "# Завдання 6\n",
        "Збережіть нейромережу та зробіть прогноз"
      ],
      "metadata": {
        "id": "aoclw4XlgPhB"
      }
    },
    {
      "cell_type": "code",
      "source": [
        "torch.save(model, 'model.pt')\n",
        "load_model = torch.load('model.pt')"
      ],
      "metadata": {
        "id": "UzVFg-KjgYgy"
      },
      "execution_count": 166,
      "outputs": []
    },
    {
      "cell_type": "code",
      "source": [
        "y_test.values[3]"
      ],
      "metadata": {
        "id": "vSNehy3kNh6T",
        "outputId": "79a1dd71-74c6-4472-b139-24f7e4b2c0c4",
        "colab": {
          "base_uri": "https://localhost:8080/"
        }
      },
      "execution_count": 167,
      "outputs": [
        {
          "output_type": "execute_result",
          "data": {
            "text/plain": [
              "0"
            ]
          },
          "metadata": {},
          "execution_count": 167
        }
      ]
    },
    {
      "cell_type": "code",
      "source": [
        "X_data = torch.FloatTensor(X_test.values[[3]])\n",
        "X_data = X_data.to(device)\n",
        "\n",
        "print(X_data)\n",
        "print(X_data.shape)"
      ],
      "metadata": {
        "id": "UWjzYWuLNosJ",
        "outputId": "9abae0d4-ffa0-4000-eab1-1e3007269c3d",
        "colab": {
          "base_uri": "https://localhost:8080/"
        }
      },
      "execution_count": 168,
      "outputs": [
        {
          "output_type": "stream",
          "name": "stdout",
          "text": [
            "tensor([[0.0821, 0.0049, 0.0042, 0.2717, 0.0015, 0.1721, 0.4958, 0.5043, 0.4123,\n",
            "         0.1570, 0.5806, 0.4873, 0.5631, 0.0920, 0.0108, 0.2000]])\n",
            "torch.Size([1, 16])\n"
          ]
        }
      ]
    },
    {
      "cell_type": "code",
      "source": [
        "load_model(X_data).round().item()"
      ],
      "metadata": {
        "id": "OsZDMRSCNsyp",
        "outputId": "1a26987e-bc39-4c5c-9216-ea618ffcc721",
        "colab": {
          "base_uri": "https://localhost:8080/"
        }
      },
      "execution_count": 169,
      "outputs": [
        {
          "output_type": "execute_result",
          "data": {
            "text/plain": [
              "0.0"
            ]
          },
          "metadata": {},
          "execution_count": 169
        }
      ]
    }
  ]
}