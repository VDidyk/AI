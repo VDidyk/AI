{
  "nbformat": 4,
  "nbformat_minor": 0,
  "metadata": {
    "colab": {
      "provenance": [],
      "toc_visible": true,
      "include_colab_link": true
    },
    "kernelspec": {
      "name": "python3",
      "display_name": "Python 3"
    },
    "language_info": {
      "name": "python"
    }
  },
  "cells": [
    {
      "cell_type": "markdown",
      "metadata": {
        "id": "view-in-github",
        "colab_type": "text"
      },
      "source": [
        "<a href=\"https://colab.research.google.com/github/VDidyk/AI/blob/master/module2/%D0%94%D0%97_2.ipynb\" target=\"_parent\"><img src=\"https://colab.research.google.com/assets/colab-badge.svg\" alt=\"Open In Colab\"/></a>"
      ]
    },
    {
      "cell_type": "markdown",
      "source": [
        "Імпортуйте модуль numpy"
      ],
      "metadata": {
        "id": "tk2sNnUDkXK9"
      }
    },
    {
      "cell_type": "code",
      "source": [
        "import numpy as np"
      ],
      "metadata": {
        "id": "1QbCsQ62kUmZ"
      },
      "execution_count": 1,
      "outputs": []
    },
    {
      "cell_type": "markdown",
      "source": [
        "#Завдання 1\n",
        "\n",
        "Створіть масив з парними числами між 30 і 70"
      ],
      "metadata": {
        "id": "ZVC4Yb3JZFO1"
      }
    },
    {
      "cell_type": "code",
      "source": [
        "print(np.arange(30, 71, 2))\n",
        "\n",
        "#or\n",
        "\n",
        "a= np.arange(30,71)\n",
        "a = a[a % 2 == 0]\n",
        "print(a)"
      ],
      "metadata": {
        "id": "aunm4Jm_hUkL",
        "outputId": "607f576e-ce09-4750-9710-b03bdfdff3c4",
        "colab": {
          "base_uri": "https://localhost:8080/"
        }
      },
      "execution_count": 8,
      "outputs": [
        {
          "output_type": "stream",
          "name": "stdout",
          "text": [
            "[30 32 34 36 38 40 42 44 46 48 50 52 54 56 58 60 62 64 66 68 70]\n",
            "[30 32 34 36 38 40 42 44 46 48 50 52 54 56 58 60 62 64 66 68 70]\n"
          ]
        }
      ]
    },
    {
      "cell_type": "markdown",
      "source": [
        "#Завдання 2\n",
        "Створіть масив з 10 числами між 0(включно) та 1(не включно) див документацію"
      ],
      "metadata": {
        "id": "UDSLr3f0b31r"
      }
    },
    {
      "cell_type": "code",
      "source": [
        "print(np.random.rand(10))"
      ],
      "metadata": {
        "id": "w7iNkGd_hUM-",
        "outputId": "8c6025a5-d071-42dd-e44b-7630eb28e5aa",
        "colab": {
          "base_uri": "https://localhost:8080/"
        }
      },
      "execution_count": 11,
      "outputs": [
        {
          "output_type": "stream",
          "name": "stdout",
          "text": [
            "[0.63581042 0.70038162 0.71161064 0.31110041 0.91095903 0.1299003\n",
            " 0.51533719 0.62924771 0.47966922 0.95195221]\n"
          ]
        }
      ]
    },
    {
      "cell_type": "markdown",
      "source": [
        "#Завдання 4\n",
        "Напишіть функцію яка приймає матрицю розміру nxn та повертає матрицю розміру (n+2) x (n+2), на краях якої розміщенні 0."
      ],
      "metadata": {
        "id": "rtWKmLWhYi_j"
      }
    },
    {
      "cell_type": "code",
      "source": [
        "def f(m):\n",
        "  n = m.shape[0]\n",
        "  a = np.zeros((n+2,n+2), dtype=np.int8)\n",
        "  a[1:n+1,1:n+1]=m\n",
        "\n",
        "  return a\n",
        "\n",
        "n=50\n",
        "m=np.random.randint(1, 10, size=(n, n), dtype=np.int8)\n",
        "print(f(m))"
      ],
      "metadata": {
        "id": "mU7vjsnqhVfk",
        "colab": {
          "base_uri": "https://localhost:8080/"
        },
        "outputId": "d32cc860-f219-486b-df3f-7664d78188cb"
      },
      "execution_count": 44,
      "outputs": [
        {
          "output_type": "stream",
          "name": "stdout",
          "text": [
            "int8\n",
            "[[0 0 0 ... 0 0 0]\n",
            " [0 8 7 ... 8 9 0]\n",
            " [0 7 8 ... 6 8 0]\n",
            " ...\n",
            " [0 4 9 ... 4 2 0]\n",
            " [0 3 7 ... 9 8 0]\n",
            " [0 0 0 ... 0 0 0]]\n"
          ]
        }
      ]
    },
    {
      "cell_type": "markdown",
      "source": [
        "#Завдання 5\n",
        "У попередьньому масиві змініть тип даних. Виведіть тип даних до та після зміни"
      ],
      "metadata": {
        "id": "ok_hMAEJa9oh"
      }
    },
    {
      "cell_type": "code",
      "source": [
        "print(m.dtype)\n",
        "m=m.astype(np.float64)\n",
        "print(m.dtype)"
      ],
      "metadata": {
        "id": "vYlj3r3ShV98",
        "outputId": "fbc7ef59-38a1-4418-87ea-3887a14c5730",
        "colab": {
          "base_uri": "https://localhost:8080/"
        }
      },
      "execution_count": 47,
      "outputs": [
        {
          "output_type": "stream",
          "name": "stdout",
          "text": [
            "int8\n",
            "float64\n"
          ]
        }
      ]
    },
    {
      "cell_type": "markdown",
      "source": [
        "#Завдання 6\n",
        "У даному масиві замініть елементи, які дорівнюють\\більші\\менші за var на -1"
      ],
      "metadata": {
        "id": "aR7TWyqgZUDg"
      }
    },
    {
      "cell_type": "code",
      "source": [
        "x = np.array([1, 5, 3, 8, 6, 5, 7, 4])\n",
        "var = 5\n",
        "\n",
        "x[x<var]=-1\n",
        "x[x==var]=-1\n",
        "x[x>var]=-1\n",
        "\n",
        "print(x)"
      ],
      "metadata": {
        "id": "oPzL69Fbg2Wq",
        "outputId": "7a585f08-0542-46dc-c7fc-7a784d5e7339",
        "colab": {
          "base_uri": "https://localhost:8080/"
        }
      },
      "execution_count": 50,
      "outputs": [
        {
          "output_type": "stream",
          "name": "stdout",
          "text": [
            "[-1 -1 -1  8  6 -1  7 -1]\n"
          ]
        }
      ]
    },
    {
      "cell_type": "markdown",
      "source": [
        "#Завдання 7\n",
        "Замініть пропущені значення матриці(np.nan) на -1\n",
        "\n",
        "Дивись np.isnan"
      ],
      "metadata": {
        "id": "Ks3Rtc7kajMJ"
      }
    },
    {
      "cell_type": "code",
      "source": [
        "X = np.array([[1, 2, np.nan, 4],\n",
        "              [5, np.nan, np.nan, 4],\n",
        "              [np.nan, 10, 11, np.nan]])\n",
        "\n",
        "X[np.isnan(X)] = -1\n",
        "print(X)"
      ],
      "metadata": {
        "id": "Rr8CdINEg3Rj",
        "outputId": "9306fb1e-5af7-4746-8817-64f0cae783c4",
        "colab": {
          "base_uri": "https://localhost:8080/"
        }
      },
      "execution_count": 58,
      "outputs": [
        {
          "output_type": "stream",
          "name": "stdout",
          "text": [
            "[[ 1.  2. -1.  4.]\n",
            " [ 5. -1. -1.  4.]\n",
            " [-1. 10. 11. -1.]]\n"
          ]
        }
      ]
    },
    {
      "cell_type": "markdown",
      "source": [
        "#Завдання 8\n",
        "Створіть матрицю розміру 4х6 з випадковими числами. Змініть її розмір на 3х8"
      ],
      "metadata": {
        "id": "teYwjikMa0gs"
      }
    },
    {
      "cell_type": "code",
      "source": [
        "m = np.random.randint(1,10,size=(4,6))\n",
        "print(m)\n",
        "m.resize((3,8))\n",
        "print(m)"
      ],
      "metadata": {
        "id": "JhNvUJwxhXED",
        "outputId": "01243a43-f79a-4e12-e6c7-68ff4c1030d0",
        "colab": {
          "base_uri": "https://localhost:8080/"
        }
      },
      "execution_count": 67,
      "outputs": [
        {
          "output_type": "stream",
          "name": "stdout",
          "text": [
            "[[6 6 4 9 6 3]\n",
            " [3 6 5 5 5 9]\n",
            " [8 5 2 2 5 2]\n",
            " [2 7 5 6 9 5]]\n",
            "[[6 6 4 9 6 3 3 6]\n",
            " [5 5 5 9 8 5 2 2]\n",
            " [5 2 2 7 5 6 9 5]]\n"
          ]
        }
      ]
    },
    {
      "cell_type": "markdown",
      "source": [
        "#Завдання 9\n",
        "Створіть матрицю з одиниць розміром 3х4. Знайдіть середнє арифметичне(mean) кожного стовпчика"
      ],
      "metadata": {
        "id": "jVE8280acszi"
      }
    },
    {
      "cell_type": "code",
      "source": [
        "m = np.ones((3,4))\n",
        "print(np.average(m,axis=0))"
      ],
      "metadata": {
        "id": "5QI6HPNHhXd4",
        "outputId": "2e8bd77b-fc1d-477b-fa37-a210a3622f03",
        "colab": {
          "base_uri": "https://localhost:8080/"
        }
      },
      "execution_count": 76,
      "outputs": [
        {
          "output_type": "stream",
          "name": "stdout",
          "text": [
            "[1. 1. 1. 1.]\n"
          ]
        }
      ]
    },
    {
      "cell_type": "markdown",
      "source": [
        "#Завдання 10\n",
        "Створіть випадкову матрицю розміром 5х6. Округліть значення до одного знаку після коми(np.round). Розмістіть стовпчики так, щоб значення в першому рядку були відсортовані за зростанням"
      ],
      "metadata": {
        "id": "nK6LwLjfc9aC"
      }
    },
    {
      "cell_type": "code",
      "source": [
        "m = np.random.rand(5,6).round(1)\n",
        "print(m)\n",
        "print(\"--------\")\n",
        "#Це взяв приклад чата GPT. Сподіваюсь що ми ще будемо це проходити тому що наразі це єдине що я не зрозумів.\n",
        "sorted_indices = m[0, :].argsort()\n",
        "sorted_m = np.take_along_axis(m, np.expand_dims(sorted_indices, axis=0), axis=1)\n",
        "print(sorted_m)"
      ],
      "metadata": {
        "id": "pERBNp12hX58",
        "outputId": "9a1309d6-6428-48ff-e2c6-bb5c25037fec",
        "colab": {
          "base_uri": "https://localhost:8080/"
        }
      },
      "execution_count": 115,
      "outputs": [
        {
          "output_type": "stream",
          "name": "stdout",
          "text": [
            "[[0.5 1.  0.1 0.2 0.9 0.7]\n",
            " [0.  0.4 1.  0.6 0.7 0.9]\n",
            " [0.8 0.4 0.3 0.2 0.1 0.7]\n",
            " [0.5 0.3 0.1 0.9 0.5 0.7]\n",
            " [0.1 0.3 0.1 0.3 0.9 0.3]]\n",
            "--------\n",
            "[[0.1 0.2 0.5 0.7 0.9 1. ]\n",
            " [1.  0.6 0.  0.9 0.7 0.4]\n",
            " [0.3 0.2 0.8 0.7 0.1 0.4]\n",
            " [0.1 0.9 0.5 0.7 0.5 0.3]\n",
            " [0.1 0.3 0.1 0.3 0.9 0.3]]\n"
          ]
        }
      ]
    },
    {
      "cell_type": "markdown",
      "source": [
        "#Завдання 11\n",
        "В даній матриці знайдіть всі елементи зі значенням між 3 і 6\n",
        "\n",
        "Дивись документацію np.logical_and"
      ],
      "metadata": {
        "id": "faCqq4bxiXsg"
      }
    },
    {
      "cell_type": "code",
      "source": [
        "X = np.array([[1, 2, 3, 4, 5],\n",
        "              [6, 7, 8, 9, 10],\n",
        "              [9, 8, 7, 6, 5],\n",
        "              [4, 3, 2, 1, 0]])\n",
        "\n",
        "print(X[(X >= 3) & (X <= 6)])"
      ],
      "metadata": {
        "id": "01ZY_c-tilOF",
        "outputId": "2930ea9f-1981-4c8f-b5de-6627e99c8d10",
        "colab": {
          "base_uri": "https://localhost:8080/"
        }
      },
      "execution_count": 113,
      "outputs": [
        {
          "output_type": "stream",
          "name": "stdout",
          "text": [
            "[3 4 5 6 6 5 4 3]\n"
          ]
        }
      ]
    },
    {
      "cell_type": "markdown",
      "source": [
        "#Завдання 12\n",
        "Створіть випадкову матрицю розміру 5х6. Нормалізуйте стовпчики: від кожного елемента ставпчика відніміть мінімальне значення та поділіть результат на різницю між максимальним та мінімальним елементом.\n",
        "\n",
        "Після цього всі значення мають бути в межах [0, 1]"
      ],
      "metadata": {
        "id": "cCZSaa3DMKxb"
      }
    },
    {
      "cell_type": "code",
      "source": [
        "m = np.random.randint(1,9,size=(5,6))\n",
        "print(m)\n",
        "m = (m - np.min(m,axis=0)) / (np.max(m,axis=0) - np.min(m,axis=0))\n",
        "print(m)"
      ],
      "metadata": {
        "id": "qnOYOAgOMqRi",
        "outputId": "d19f5847-f536-4d79-bc43-848dccfb4acc",
        "colab": {
          "base_uri": "https://localhost:8080/"
        }
      },
      "execution_count": 117,
      "outputs": [
        {
          "output_type": "stream",
          "name": "stdout",
          "text": [
            "[[8 8 5 7 5 5]\n",
            " [7 7 3 7 3 8]\n",
            " [2 6 8 6 1 6]\n",
            " [5 3 6 7 8 3]\n",
            " [2 4 5 8 3 8]]\n",
            "[[1.         1.         0.4        0.5        0.57142857 0.4       ]\n",
            " [0.83333333 0.8        0.         0.5        0.28571429 1.        ]\n",
            " [0.         0.6        1.         0.         0.         0.6       ]\n",
            " [0.5        0.         0.6        0.5        1.         0.        ]\n",
            " [0.         0.2        0.4        1.         0.28571429 1.        ]]\n"
          ]
        }
      ]
    }
  ]
}