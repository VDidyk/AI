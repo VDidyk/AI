{
  "nbformat": 4,
  "nbformat_minor": 0,
  "metadata": {
    "colab": {
      "provenance": [],
      "include_colab_link": true
    },
    "kernelspec": {
      "name": "python3",
      "display_name": "Python 3"
    },
    "language_info": {
      "name": "python"
    }
  },
  "cells": [
    {
      "cell_type": "markdown",
      "metadata": {
        "id": "view-in-github",
        "colab_type": "text"
      },
      "source": [
        "<a href=\"https://colab.research.google.com/github/VDidyk/AI/blob/master/module2/%D0%9F%D1%80%D0%B0%D0%BA%D1%82%D0%B8%D0%BA%D0%B0_numpy.ipynb\" target=\"_parent\"><img src=\"https://colab.research.google.com/assets/colab-badge.svg\" alt=\"Open In Colab\"/></a>"
      ]
    },
    {
      "cell_type": "markdown",
      "source": [
        "Імпортуйте модуль numpy"
      ],
      "metadata": {
        "id": "rIioSM27QJ8x"
      }
    },
    {
      "cell_type": "code",
      "execution_count": 1,
      "metadata": {
        "id": "rDtfBq8ANBhL"
      },
      "outputs": [],
      "source": [
        "import numpy as np;"
      ]
    },
    {
      "cell_type": "markdown",
      "source": [
        "# Завдання 1\n",
        "Створіть масив з елементами від 1 до 12. Виведіть розмір та тип масиву"
      ],
      "metadata": {
        "id": "npT_FnlcNwke"
      }
    },
    {
      "cell_type": "code",
      "source": [
        "np.arange(1,13)"
      ],
      "metadata": {
        "id": "02EdQMKlOZHr",
        "colab": {
          "base_uri": "https://localhost:8080/"
        },
        "outputId": "3aa3df46-d1f6-46f3-8758-e0ad1a02a3f6"
      },
      "execution_count": 3,
      "outputs": [
        {
          "output_type": "execute_result",
          "data": {
            "text/plain": [
              "array([ 1,  2,  3,  4,  5,  6,  7,  8,  9, 10, 11, 12])"
            ]
          },
          "metadata": {},
          "execution_count": 3
        }
      ]
    },
    {
      "cell_type": "markdown",
      "source": [
        "# Завдання 2\n",
        "Зробіть на основі попереднього масиву матрицю з 4 стовчиками. Змініть тип даних матриці на float32. Виведіть транспоновану матрицю."
      ],
      "metadata": {
        "id": "HH8hOwVhNxWE"
      }
    },
    {
      "cell_type": "code",
      "source": [],
      "metadata": {
        "id": "4jYqwTycOYbN"
      },
      "execution_count": null,
      "outputs": []
    },
    {
      "cell_type": "markdown",
      "source": [
        "#Завдання 3\n",
        "Створіть матрицю 8х8 з 0 та 1 розміщеними в шаховому порядку"
      ],
      "metadata": {
        "id": "T35Vjkz1Nxez"
      }
    },
    {
      "cell_type": "code",
      "source": [
        "a = np.zeros((8, 8), dtype=np.int8)\n",
        "a[1::2, ::2] = 1\n",
        "a[::2, 1::2] = 1\n",
        "\n",
        "a"
      ],
      "metadata": {
        "id": "mrbnfiPQPu_n",
        "colab": {
          "base_uri": "https://localhost:8080/"
        },
        "outputId": "385da255-cf8f-473c-ace9-841f35884adf"
      },
      "execution_count": 6,
      "outputs": [
        {
          "output_type": "execute_result",
          "data": {
            "text/plain": [
              "array([[0, 1, 0, 1, 0, 1, 0, 1],\n",
              "       [1, 0, 1, 0, 1, 0, 1, 0],\n",
              "       [0, 1, 0, 1, 0, 1, 0, 1],\n",
              "       [1, 0, 1, 0, 1, 0, 1, 0],\n",
              "       [0, 1, 0, 1, 0, 1, 0, 1],\n",
              "       [1, 0, 1, 0, 1, 0, 1, 0],\n",
              "       [0, 1, 0, 1, 0, 1, 0, 1],\n",
              "       [1, 0, 1, 0, 1, 0, 1, 0]], dtype=int8)"
            ]
          },
          "metadata": {},
          "execution_count": 6
        }
      ]
    },
    {
      "cell_type": "markdown",
      "source": [
        "# Завдання 4\n",
        "Створіть випадкову матрицю 4х3. Знайдіть суму елементів в стовпчиках\\рядках\\усій матриці"
      ],
      "metadata": {
        "id": "g87KAY1nNxoy"
      }
    },
    {
      "cell_type": "code",
      "source": [
        "a = np.random.rand(4, 3)\n",
        "a"
      ],
      "metadata": {
        "id": "RGA3022VQIZV",
        "colab": {
          "base_uri": "https://localhost:8080/"
        },
        "outputId": "0caf414d-bc28-4452-a492-9ab4495afab1"
      },
      "execution_count": 15,
      "outputs": [
        {
          "output_type": "execute_result",
          "data": {
            "text/plain": [
              "array([[0.36066318, 0.26351442, 0.0102769 ],\n",
              "       [0.03423108, 0.58478567, 0.21981009],\n",
              "       [0.8955965 , 0.25677596, 0.13033705],\n",
              "       [0.3195972 , 0.37119621, 0.43147266]])"
            ]
          },
          "metadata": {},
          "execution_count": 15
        }
      ]
    },
    {
      "cell_type": "markdown",
      "source": [
        "# Завдання 5\n",
        "У попередній матриці від кожного рядка відніміть максимальний елемент цього рядка"
      ],
      "metadata": {
        "id": "AGH0TVVBNxx9"
      }
    },
    {
      "cell_type": "code",
      "source": [],
      "metadata": {
        "id": "TVYjbsBDQHTU"
      },
      "execution_count": null,
      "outputs": []
    },
    {
      "cell_type": "markdown",
      "source": [
        "# Завдання 6\n",
        "Є дані про вагу контейнерів для перевезення на кораблі: дрібний - 5 т,  малий - 10 т, середній - 25 т, великий - 40 т. На кораблі розміщено 20 дрібних, 5 малих, 10 середніх та 4 великих контейнерів. Знайти масу вантажу."
      ],
      "metadata": {
        "id": "cH8WhnsjQsXi"
      }
    },
    {
      "cell_type": "code",
      "source": [],
      "metadata": {
        "id": "BYrqqe9WR6g7"
      },
      "execution_count": null,
      "outputs": []
    },
    {
      "cell_type": "markdown",
      "source": [
        "# Завдання 7\n",
        "Тепер у нас декілька кораблів. Напишіть код для обчислення вантажу на кожному кораблі."
      ],
      "metadata": {
        "id": "IhdiDOh3Qrmb"
      }
    },
    {
      "cell_type": "code",
      "source": [],
      "metadata": {
        "id": "gVUXPdFhSI95"
      },
      "execution_count": null,
      "outputs": []
    }
  ]
}